{
 "cells": [
  {
   "cell_type": "code",
   "execution_count": 1,
   "id": "9a1a44e3",
   "metadata": {},
   "outputs": [],
   "source": [
    "import pandas as pd\n",
    "import numpy as np\n",
    "import matplotlib.pyplot as plt \n",
    "import seaborn as sns\n"
   ]
  },
  {
   "cell_type": "code",
   "execution_count": 2,
   "id": "62b81c41",
   "metadata": {},
   "outputs": [],
   "source": [
    "df = pd.read_csv('INR=X (2).csv')"
   ]
  },
  {
   "cell_type": "code",
   "execution_count": 3,
   "id": "1155a417",
   "metadata": {},
   "outputs": [
    {
     "data": {
      "text/html": [
       "<div>\n",
       "<style scoped>\n",
       "    .dataframe tbody tr th:only-of-type {\n",
       "        vertical-align: middle;\n",
       "    }\n",
       "\n",
       "    .dataframe tbody tr th {\n",
       "        vertical-align: top;\n",
       "    }\n",
       "\n",
       "    .dataframe thead th {\n",
       "        text-align: right;\n",
       "    }\n",
       "</style>\n",
       "<table border=\"1\" class=\"dataframe\">\n",
       "  <thead>\n",
       "    <tr style=\"text-align: right;\">\n",
       "      <th></th>\n",
       "      <th>Date</th>\n",
       "      <th>Open</th>\n",
       "      <th>High</th>\n",
       "      <th>Low</th>\n",
       "      <th>Close</th>\n",
       "      <th>Adj Close</th>\n",
       "      <th>Volume</th>\n",
       "    </tr>\n",
       "  </thead>\n",
       "  <tbody>\n",
       "    <tr>\n",
       "      <th>0</th>\n",
       "      <td>09-03-2020</td>\n",
       "      <td>73.995300</td>\n",
       "      <td>75.062500</td>\n",
       "      <td>73.862503</td>\n",
       "      <td>73.995300</td>\n",
       "      <td>73.995300</td>\n",
       "      <td>0.0</td>\n",
       "    </tr>\n",
       "    <tr>\n",
       "      <th>1</th>\n",
       "      <td>10-03-2020</td>\n",
       "      <td>75.144997</td>\n",
       "      <td>75.144997</td>\n",
       "      <td>73.735497</td>\n",
       "      <td>74.405998</td>\n",
       "      <td>74.405998</td>\n",
       "      <td>0.0</td>\n",
       "    </tr>\n",
       "    <tr>\n",
       "      <th>2</th>\n",
       "      <td>11-03-2020</td>\n",
       "      <td>74.205002</td>\n",
       "      <td>74.404999</td>\n",
       "      <td>73.404503</td>\n",
       "      <td>74.205002</td>\n",
       "      <td>74.205002</td>\n",
       "      <td>0.0</td>\n",
       "    </tr>\n",
       "    <tr>\n",
       "      <th>3</th>\n",
       "      <td>12-03-2020</td>\n",
       "      <td>74.760002</td>\n",
       "      <td>75.379997</td>\n",
       "      <td>73.994499</td>\n",
       "      <td>74.760002</td>\n",
       "      <td>74.760002</td>\n",
       "      <td>0.0</td>\n",
       "    </tr>\n",
       "    <tr>\n",
       "      <th>4</th>\n",
       "      <td>13-03-2020</td>\n",
       "      <td>74.436096</td>\n",
       "      <td>75.434998</td>\n",
       "      <td>73.699501</td>\n",
       "      <td>75.300003</td>\n",
       "      <td>75.300003</td>\n",
       "      <td>0.0</td>\n",
       "    </tr>\n",
       "  </tbody>\n",
       "</table>\n",
       "</div>"
      ],
      "text/plain": [
       "         Date       Open       High        Low      Close  Adj Close  Volume\n",
       "0  09-03-2020  73.995300  75.062500  73.862503  73.995300  73.995300     0.0\n",
       "1  10-03-2020  75.144997  75.144997  73.735497  74.405998  74.405998     0.0\n",
       "2  11-03-2020  74.205002  74.404999  73.404503  74.205002  74.205002     0.0\n",
       "3  12-03-2020  74.760002  75.379997  73.994499  74.760002  74.760002     0.0\n",
       "4  13-03-2020  74.436096  75.434998  73.699501  75.300003  75.300003     0.0"
      ]
     },
     "execution_count": 3,
     "metadata": {},
     "output_type": "execute_result"
    }
   ],
   "source": [
    "df.head()"
   ]
  },
  {
   "cell_type": "code",
   "execution_count": 4,
   "id": "bbe3e664",
   "metadata": {},
   "outputs": [
    {
     "data": {
      "text/html": [
       "<div>\n",
       "<style scoped>\n",
       "    .dataframe tbody tr th:only-of-type {\n",
       "        vertical-align: middle;\n",
       "    }\n",
       "\n",
       "    .dataframe tbody tr th {\n",
       "        vertical-align: top;\n",
       "    }\n",
       "\n",
       "    .dataframe thead th {\n",
       "        text-align: right;\n",
       "    }\n",
       "</style>\n",
       "<table border=\"1\" class=\"dataframe\">\n",
       "  <thead>\n",
       "    <tr style=\"text-align: right;\">\n",
       "      <th></th>\n",
       "      <th>Open</th>\n",
       "      <th>High</th>\n",
       "      <th>Low</th>\n",
       "      <th>Close</th>\n",
       "      <th>Adj Close</th>\n",
       "      <th>Volume</th>\n",
       "    </tr>\n",
       "  </thead>\n",
       "  <tbody>\n",
       "    <tr>\n",
       "      <th>Open</th>\n",
       "      <td>1.000000</td>\n",
       "      <td>0.997228</td>\n",
       "      <td>0.996843</td>\n",
       "      <td>0.999198</td>\n",
       "      <td>0.999198</td>\n",
       "      <td>NaN</td>\n",
       "    </tr>\n",
       "    <tr>\n",
       "      <th>High</th>\n",
       "      <td>0.997228</td>\n",
       "      <td>1.000000</td>\n",
       "      <td>0.995008</td>\n",
       "      <td>0.997177</td>\n",
       "      <td>0.997177</td>\n",
       "      <td>NaN</td>\n",
       "    </tr>\n",
       "    <tr>\n",
       "      <th>Low</th>\n",
       "      <td>0.996843</td>\n",
       "      <td>0.995008</td>\n",
       "      <td>1.000000</td>\n",
       "      <td>0.997242</td>\n",
       "      <td>0.997242</td>\n",
       "      <td>NaN</td>\n",
       "    </tr>\n",
       "    <tr>\n",
       "      <th>Close</th>\n",
       "      <td>0.999198</td>\n",
       "      <td>0.997177</td>\n",
       "      <td>0.997242</td>\n",
       "      <td>1.000000</td>\n",
       "      <td>1.000000</td>\n",
       "      <td>NaN</td>\n",
       "    </tr>\n",
       "    <tr>\n",
       "      <th>Adj Close</th>\n",
       "      <td>0.999198</td>\n",
       "      <td>0.997177</td>\n",
       "      <td>0.997242</td>\n",
       "      <td>1.000000</td>\n",
       "      <td>1.000000</td>\n",
       "      <td>NaN</td>\n",
       "    </tr>\n",
       "    <tr>\n",
       "      <th>Volume</th>\n",
       "      <td>NaN</td>\n",
       "      <td>NaN</td>\n",
       "      <td>NaN</td>\n",
       "      <td>NaN</td>\n",
       "      <td>NaN</td>\n",
       "      <td>NaN</td>\n",
       "    </tr>\n",
       "  </tbody>\n",
       "</table>\n",
       "</div>"
      ],
      "text/plain": [
       "               Open      High       Low     Close  Adj Close  Volume\n",
       "Open       1.000000  0.997228  0.996843  0.999198   0.999198     NaN\n",
       "High       0.997228  1.000000  0.995008  0.997177   0.997177     NaN\n",
       "Low        0.996843  0.995008  1.000000  0.997242   0.997242     NaN\n",
       "Close      0.999198  0.997177  0.997242  1.000000   1.000000     NaN\n",
       "Adj Close  0.999198  0.997177  0.997242  1.000000   1.000000     NaN\n",
       "Volume          NaN       NaN       NaN       NaN        NaN     NaN"
      ]
     },
     "execution_count": 4,
     "metadata": {},
     "output_type": "execute_result"
    }
   ],
   "source": [
    "df.corr()"
   ]
  },
  {
   "cell_type": "code",
   "execution_count": 5,
   "id": "0b6285e4",
   "metadata": {},
   "outputs": [
    {
     "data": {
      "image/png": "[encoded data removed]",
      "text/plain": [
       "<Figure size 936x360 with 1 Axes>"
      ]
     },
     "metadata": {
      "needs_background": "light"
     },
     "output_type": "display_data"
    }
   ],
   "source": [
    "title = 'Open and close Price History    '\n",
    "#Get the stocks\n",
    "my_stocks = df\n",
    "#Cr\n",
    "plt.figure(figsize=(13,5)) \n",
    "plt.plot( my_stocks['Open'],  label='Open')\n",
    "plt.plot( my_stocks['Close'],  label='close')\n",
    "plt.xticks(rotation=45) \n",
    "plt.title(title)\n",
    "plt.xlabel('Date',fontsize=20)\n",
    "plt.ylabel('Price INR (Rs)',fontsize=18)\n",
    "plt.show()"
   ]
  },
  {
   "cell_type": "code",
   "execution_count": 6,
   "id": "730c7e5e",
   "metadata": {},
   "outputs": [],
   "source": [
    "ShortEMA=df.Close.ewm(span=12,adjust=False).mean()\n",
    "LongEMA=df.Close.ewm(span=26,adjust=False).mean()\n",
    "MACD=ShortEMA-LongEMA\n",
    "signal=MACD.ewm(span=9,adjust=False).mean()"
   ]
  },
  {
   "cell_type": "code",
   "execution_count": 7,
   "id": "172a7fc9",
   "metadata": {},
   "outputs": [
    {
     "data": {
      "image/png": "[encoded data removed]",
      "text/plain": [
       "<Figure size 878.4x324 with 1 Axes>"
      ]
     },
     "metadata": {
      "needs_background": "light"
     },
     "output_type": "display_data"
    }
   ],
   "source": [
    "plt.figure(figsize=(12.2,4.5)) \n",
    "plt.plot(df.index, MACD, label='AAPL MACD', color = 'red')\n",
    "plt.plot(df.index, signal, label='Signal Line', color='blue')\n",
    "plt.xticks(rotation=45)\n",
    "plt.legend(loc='upper left')\n",
    "plt.show()"
   ]
  },
  {
   "cell_type": "code",
   "execution_count": 8,
   "id": "6f99aec2",
   "metadata": {},
   "outputs": [
    {
     "data": {
      "text/html": [
       "<div>\n",
       "<style scoped>\n",
       "    .dataframe tbody tr th:only-of-type {\n",
       "        vertical-align: middle;\n",
       "    }\n",
       "\n",
       "    .dataframe tbody tr th {\n",
       "        vertical-align: top;\n",
       "    }\n",
       "\n",
       "    .dataframe thead th {\n",
       "        text-align: right;\n",
       "    }\n",
       "</style>\n",
       "<table border=\"1\" class=\"dataframe\">\n",
       "  <thead>\n",
       "    <tr style=\"text-align: right;\">\n",
       "      <th></th>\n",
       "      <th>Date</th>\n",
       "      <th>Open</th>\n",
       "      <th>High</th>\n",
       "      <th>Low</th>\n",
       "      <th>Close</th>\n",
       "      <th>Adj Close</th>\n",
       "      <th>Volume</th>\n",
       "      <th>MACD</th>\n",
       "      <th>Signal</th>\n",
       "    </tr>\n",
       "  </thead>\n",
       "  <tbody>\n",
       "    <tr>\n",
       "      <th>0</th>\n",
       "      <td>09-03-2020</td>\n",
       "      <td>73.995300</td>\n",
       "      <td>75.062500</td>\n",
       "      <td>73.862503</td>\n",
       "      <td>73.995300</td>\n",
       "      <td>73.995300</td>\n",
       "      <td>0.0</td>\n",
       "      <td>0.000000</td>\n",
       "      <td>0.000000</td>\n",
       "    </tr>\n",
       "    <tr>\n",
       "      <th>1</th>\n",
       "      <td>10-03-2020</td>\n",
       "      <td>75.144997</td>\n",
       "      <td>75.144997</td>\n",
       "      <td>73.735497</td>\n",
       "      <td>74.405998</td>\n",
       "      <td>74.405998</td>\n",
       "      <td>0.0</td>\n",
       "      <td>0.032762</td>\n",
       "      <td>0.006552</td>\n",
       "    </tr>\n",
       "    <tr>\n",
       "      <th>2</th>\n",
       "      <td>11-03-2020</td>\n",
       "      <td>74.205002</td>\n",
       "      <td>74.404999</td>\n",
       "      <td>73.404503</td>\n",
       "      <td>74.205002</td>\n",
       "      <td>74.205002</td>\n",
       "      <td>0.0</td>\n",
       "      <td>0.042023</td>\n",
       "      <td>0.013647</td>\n",
       "    </tr>\n",
       "    <tr>\n",
       "      <th>3</th>\n",
       "      <td>12-03-2020</td>\n",
       "      <td>74.760002</td>\n",
       "      <td>75.379997</td>\n",
       "      <td>73.994499</td>\n",
       "      <td>74.760002</td>\n",
       "      <td>74.760002</td>\n",
       "      <td>0.0</td>\n",
       "      <td>0.093074</td>\n",
       "      <td>0.029532</td>\n",
       "    </tr>\n",
       "    <tr>\n",
       "      <th>4</th>\n",
       "      <td>13-03-2020</td>\n",
       "      <td>74.436096</td>\n",
       "      <td>75.434998</td>\n",
       "      <td>73.699501</td>\n",
       "      <td>75.300003</td>\n",
       "      <td>75.300003</td>\n",
       "      <td>0.0</td>\n",
       "      <td>0.175087</td>\n",
       "      <td>0.058643</td>\n",
       "    </tr>\n",
       "    <tr>\n",
       "      <th>...</th>\n",
       "      <td>...</td>\n",
       "      <td>...</td>\n",
       "      <td>...</td>\n",
       "      <td>...</td>\n",
       "      <td>...</td>\n",
       "      <td>...</td>\n",
       "      <td>...</td>\n",
       "      <td>...</td>\n",
       "      <td>...</td>\n",
       "    </tr>\n",
       "    <tr>\n",
       "      <th>777</th>\n",
       "      <td>01-03-2023</td>\n",
       "      <td>82.635399</td>\n",
       "      <td>82.878304</td>\n",
       "      <td>82.377998</td>\n",
       "      <td>82.635399</td>\n",
       "      <td>82.635399</td>\n",
       "      <td>0.0</td>\n",
       "      <td>0.190555</td>\n",
       "      <td>0.204287</td>\n",
       "    </tr>\n",
       "    <tr>\n",
       "      <th>778</th>\n",
       "      <td>02-03-2023</td>\n",
       "      <td>82.419899</td>\n",
       "      <td>82.657799</td>\n",
       "      <td>82.302101</td>\n",
       "      <td>82.419899</td>\n",
       "      <td>82.419899</td>\n",
       "      <td>0.0</td>\n",
       "      <td>0.156780</td>\n",
       "      <td>0.194786</td>\n",
       "    </tr>\n",
       "    <tr>\n",
       "      <th>779</th>\n",
       "      <td>03-03-2023</td>\n",
       "      <td>82.355698</td>\n",
       "      <td>82.581299</td>\n",
       "      <td>81.703903</td>\n",
       "      <td>82.355698</td>\n",
       "      <td>82.355698</td>\n",
       "      <td>0.0</td>\n",
       "      <td>0.123410</td>\n",
       "      <td>0.180510</td>\n",
       "    </tr>\n",
       "    <tr>\n",
       "      <th>780</th>\n",
       "      <td>06-03-2023</td>\n",
       "      <td>81.712502</td>\n",
       "      <td>81.970299</td>\n",
       "      <td>81.619003</td>\n",
       "      <td>81.712502</td>\n",
       "      <td>81.712502</td>\n",
       "      <td>0.0</td>\n",
       "      <td>0.044550</td>\n",
       "      <td>0.153318</td>\n",
       "    </tr>\n",
       "    <tr>\n",
       "      <th>781</th>\n",
       "      <td>07-03-2023</td>\n",
       "      <td>81.790001</td>\n",
       "      <td>81.827003</td>\n",
       "      <td>81.707001</td>\n",
       "      <td>81.766998</td>\n",
       "      <td>81.766998</td>\n",
       "      <td>0.0</td>\n",
       "      <td>-0.013395</td>\n",
       "      <td>0.119976</td>\n",
       "    </tr>\n",
       "  </tbody>\n",
       "</table>\n",
       "<p>782 rows × 9 columns</p>\n",
       "</div>"
      ],
      "text/plain": [
       "           Date       Open       High        Low      Close  Adj Close  \\\n",
       "0    09-03-2020  73.995300  75.062500  73.862503  73.995300  73.995300   \n",
       "1    10-03-2020  75.144997  75.144997  73.735497  74.405998  74.405998   \n",
       "2    11-03-2020  74.205002  74.404999  73.404503  74.205002  74.205002   \n",
       "3    12-03-2020  74.760002  75.379997  73.994499  74.760002  74.760002   \n",
       "4    13-03-2020  74.436096  75.434998  73.699501  75.300003  75.300003   \n",
       "..          ...        ...        ...        ...        ...        ...   \n",
       "777  01-03-2023  82.635399  82.878304  82.377998  82.635399  82.635399   \n",
       "778  02-03-2023  82.419899  82.657799  82.302101  82.419899  82.419899   \n",
       "779  03-03-2023  82.355698  82.581299  81.703903  82.355698  82.355698   \n",
       "780  06-03-2023  81.712502  81.970299  81.619003  81.712502  81.712502   \n",
       "781  07-03-2023  81.790001  81.827003  81.707001  81.766998  81.766998   \n",
       "\n",
       "     Volume      MACD    Signal  \n",
       "0       0.0  0.000000  0.000000  \n",
       "1       0.0  0.032762  0.006552  \n",
       "2       0.0  0.042023  0.013647  \n",
       "3       0.0  0.093074  0.029532  \n",
       "4       0.0  0.175087  0.058643  \n",
       "..      ...       ...       ...  \n",
       "777     0.0  0.190555  0.204287  \n",
       "778     0.0  0.156780  0.194786  \n",
       "779     0.0  0.123410  0.180510  \n",
       "780     0.0  0.044550  0.153318  \n",
       "781     0.0 -0.013395  0.119976  \n",
       "\n",
       "[782 rows x 9 columns]"
      ]
     },
     "execution_count": 8,
     "metadata": {},
     "output_type": "execute_result"
    }
   ],
   "source": [
    "df['MACD']= MACD\n",
    "df['Signal']=signal\n",
    "\n",
    "df"
   ]
  },
  {
   "cell_type": "code",
   "execution_count": 9,
   "id": "f8ffd61b",
   "metadata": {},
   "outputs": [],
   "source": [
    "label=[]\n",
    "for i in range(0,len(df)):\n",
    "    if df.MACD.iloc[i]> df.Signal.iloc[i]:\n",
    "        label.append(1)\n",
    "    else :\n",
    "        label.append(0)"
   ]
  },
  {
   "cell_type": "code",
   "execution_count": 10,
   "id": "6417074c",
   "metadata": {},
   "outputs": [],
   "source": [
    "df['Label'] = label"
   ]
  },
  {
   "cell_type": "code",
   "execution_count": 11,
   "id": "80a7ef65",
   "metadata": {},
   "outputs": [
    {
     "data": {
      "text/html": [
       "<div>\n",
       "<style scoped>\n",
       "    .dataframe tbody tr th:only-of-type {\n",
       "        vertical-align: middle;\n",
       "    }\n",
       "\n",
       "    .dataframe tbody tr th {\n",
       "        vertical-align: top;\n",
       "    }\n",
       "\n",
       "    .dataframe thead th {\n",
       "        text-align: right;\n",
       "    }\n",
       "</style>\n",
       "<table border=\"1\" class=\"dataframe\">\n",
       "  <thead>\n",
       "    <tr style=\"text-align: right;\">\n",
       "      <th></th>\n",
       "      <th>Date</th>\n",
       "      <th>Open</th>\n",
       "      <th>High</th>\n",
       "      <th>Low</th>\n",
       "      <th>Close</th>\n",
       "      <th>Adj Close</th>\n",
       "      <th>Volume</th>\n",
       "      <th>MACD</th>\n",
       "      <th>Signal</th>\n",
       "      <th>Label</th>\n",
       "    </tr>\n",
       "  </thead>\n",
       "  <tbody>\n",
       "    <tr>\n",
       "      <th>0</th>\n",
       "      <td>09-03-2020</td>\n",
       "      <td>73.995300</td>\n",
       "      <td>75.062500</td>\n",
       "      <td>73.862503</td>\n",
       "      <td>73.995300</td>\n",
       "      <td>73.995300</td>\n",
       "      <td>0.0</td>\n",
       "      <td>0.000000</td>\n",
       "      <td>0.000000</td>\n",
       "      <td>0</td>\n",
       "    </tr>\n",
       "    <tr>\n",
       "      <th>1</th>\n",
       "      <td>10-03-2020</td>\n",
       "      <td>75.144997</td>\n",
       "      <td>75.144997</td>\n",
       "      <td>73.735497</td>\n",
       "      <td>74.405998</td>\n",
       "      <td>74.405998</td>\n",
       "      <td>0.0</td>\n",
       "      <td>0.032762</td>\n",
       "      <td>0.006552</td>\n",
       "      <td>1</td>\n",
       "    </tr>\n",
       "    <tr>\n",
       "      <th>2</th>\n",
       "      <td>11-03-2020</td>\n",
       "      <td>74.205002</td>\n",
       "      <td>74.404999</td>\n",
       "      <td>73.404503</td>\n",
       "      <td>74.205002</td>\n",
       "      <td>74.205002</td>\n",
       "      <td>0.0</td>\n",
       "      <td>0.042023</td>\n",
       "      <td>0.013647</td>\n",
       "      <td>1</td>\n",
       "    </tr>\n",
       "    <tr>\n",
       "      <th>3</th>\n",
       "      <td>12-03-2020</td>\n",
       "      <td>74.760002</td>\n",
       "      <td>75.379997</td>\n",
       "      <td>73.994499</td>\n",
       "      <td>74.760002</td>\n",
       "      <td>74.760002</td>\n",
       "      <td>0.0</td>\n",
       "      <td>0.093074</td>\n",
       "      <td>0.029532</td>\n",
       "      <td>1</td>\n",
       "    </tr>\n",
       "    <tr>\n",
       "      <th>4</th>\n",
       "      <td>13-03-2020</td>\n",
       "      <td>74.436096</td>\n",
       "      <td>75.434998</td>\n",
       "      <td>73.699501</td>\n",
       "      <td>75.300003</td>\n",
       "      <td>75.300003</td>\n",
       "      <td>0.0</td>\n",
       "      <td>0.175087</td>\n",
       "      <td>0.058643</td>\n",
       "      <td>1</td>\n",
       "    </tr>\n",
       "    <tr>\n",
       "      <th>...</th>\n",
       "      <td>...</td>\n",
       "      <td>...</td>\n",
       "      <td>...</td>\n",
       "      <td>...</td>\n",
       "      <td>...</td>\n",
       "      <td>...</td>\n",
       "      <td>...</td>\n",
       "      <td>...</td>\n",
       "      <td>...</td>\n",
       "      <td>...</td>\n",
       "    </tr>\n",
       "    <tr>\n",
       "      <th>777</th>\n",
       "      <td>01-03-2023</td>\n",
       "      <td>82.635399</td>\n",
       "      <td>82.878304</td>\n",
       "      <td>82.377998</td>\n",
       "      <td>82.635399</td>\n",
       "      <td>82.635399</td>\n",
       "      <td>0.0</td>\n",
       "      <td>0.190555</td>\n",
       "      <td>0.204287</td>\n",
       "      <td>0</td>\n",
       "    </tr>\n",
       "    <tr>\n",
       "      <th>778</th>\n",
       "      <td>02-03-2023</td>\n",
       "      <td>82.419899</td>\n",
       "      <td>82.657799</td>\n",
       "      <td>82.302101</td>\n",
       "      <td>82.419899</td>\n",
       "      <td>82.419899</td>\n",
       "      <td>0.0</td>\n",
       "      <td>0.156780</td>\n",
       "      <td>0.194786</td>\n",
       "      <td>0</td>\n",
       "    </tr>\n",
       "    <tr>\n",
       "      <th>779</th>\n",
       "      <td>03-03-2023</td>\n",
       "      <td>82.355698</td>\n",
       "      <td>82.581299</td>\n",
       "      <td>81.703903</td>\n",
       "      <td>82.355698</td>\n",
       "      <td>82.355698</td>\n",
       "      <td>0.0</td>\n",
       "      <td>0.123410</td>\n",
       "      <td>0.180510</td>\n",
       "      <td>0</td>\n",
       "    </tr>\n",
       "    <tr>\n",
       "      <th>780</th>\n",
       "      <td>06-03-2023</td>\n",
       "      <td>81.712502</td>\n",
       "      <td>81.970299</td>\n",
       "      <td>81.619003</td>\n",
       "      <td>81.712502</td>\n",
       "      <td>81.712502</td>\n",
       "      <td>0.0</td>\n",
       "      <td>0.044550</td>\n",
       "      <td>0.153318</td>\n",
       "      <td>0</td>\n",
       "    </tr>\n",
       "    <tr>\n",
       "      <th>781</th>\n",
       "      <td>07-03-2023</td>\n",
       "      <td>81.790001</td>\n",
       "      <td>81.827003</td>\n",
       "      <td>81.707001</td>\n",
       "      <td>81.766998</td>\n",
       "      <td>81.766998</td>\n",
       "      <td>0.0</td>\n",
       "      <td>-0.013395</td>\n",
       "      <td>0.119976</td>\n",
       "      <td>0</td>\n",
       "    </tr>\n",
       "  </tbody>\n",
       "</table>\n",
       "<p>782 rows × 10 columns</p>\n",
       "</div>"
      ],
      "text/plain": [
       "           Date       Open       High        Low      Close  Adj Close  \\\n",
       "0    09-03-2020  73.995300  75.062500  73.862503  73.995300  73.995300   \n",
       "1    10-03-2020  75.144997  75.144997  73.735497  74.405998  74.405998   \n",
       "2    11-03-2020  74.205002  74.404999  73.404503  74.205002  74.205002   \n",
       "3    12-03-2020  74.760002  75.379997  73.994499  74.760002  74.760002   \n",
       "4    13-03-2020  74.436096  75.434998  73.699501  75.300003  75.300003   \n",
       "..          ...        ...        ...        ...        ...        ...   \n",
       "777  01-03-2023  82.635399  82.878304  82.377998  82.635399  82.635399   \n",
       "778  02-03-2023  82.419899  82.657799  82.302101  82.419899  82.419899   \n",
       "779  03-03-2023  82.355698  82.581299  81.703903  82.355698  82.355698   \n",
       "780  06-03-2023  81.712502  81.970299  81.619003  81.712502  81.712502   \n",
       "781  07-03-2023  81.790001  81.827003  81.707001  81.766998  81.766998   \n",
       "\n",
       "     Volume      MACD    Signal  Label  \n",
       "0       0.0  0.000000  0.000000      0  \n",
       "1       0.0  0.032762  0.006552      1  \n",
       "2       0.0  0.042023  0.013647      1  \n",
       "3       0.0  0.093074  0.029532      1  \n",
       "4       0.0  0.175087  0.058643      1  \n",
       "..      ...       ...       ...    ...  \n",
       "777     0.0  0.190555  0.204287      0  \n",
       "778     0.0  0.156780  0.194786      0  \n",
       "779     0.0  0.123410  0.180510      0  \n",
       "780     0.0  0.044550  0.153318      0  \n",
       "781     0.0 -0.013395  0.119976      0  \n",
       "\n",
       "[782 rows x 10 columns]"
      ]
     },
     "execution_count": 11,
     "metadata": {},
     "output_type": "execute_result"
    }
   ],
   "source": [
    "df"
   ]
  },
  {
   "cell_type": "code",
   "execution_count": 12,
   "id": "38d6688f",
   "metadata": {},
   "outputs": [
    {
     "data": {
      "text/html": [
       "<div>\n",
       "<style scoped>\n",
       "    .dataframe tbody tr th:only-of-type {\n",
       "        vertical-align: middle;\n",
       "    }\n",
       "\n",
       "    .dataframe tbody tr th {\n",
       "        vertical-align: top;\n",
       "    }\n",
       "\n",
       "    .dataframe thead th {\n",
       "        text-align: right;\n",
       "    }\n",
       "</style>\n",
       "<table border=\"1\" class=\"dataframe\">\n",
       "  <thead>\n",
       "    <tr style=\"text-align: right;\">\n",
       "      <th></th>\n",
       "      <th>Open</th>\n",
       "      <th>High</th>\n",
       "      <th>Low</th>\n",
       "      <th>Close</th>\n",
       "      <th>Adj Close</th>\n",
       "      <th>Volume</th>\n",
       "      <th>MACD</th>\n",
       "      <th>Signal</th>\n",
       "      <th>Label</th>\n",
       "    </tr>\n",
       "    <tr>\n",
       "      <th>Date</th>\n",
       "      <th></th>\n",
       "      <th></th>\n",
       "      <th></th>\n",
       "      <th></th>\n",
       "      <th></th>\n",
       "      <th></th>\n",
       "      <th></th>\n",
       "      <th></th>\n",
       "      <th></th>\n",
       "    </tr>\n",
       "  </thead>\n",
       "  <tbody>\n",
       "    <tr>\n",
       "      <th>09-03-2020</th>\n",
       "      <td>73.995300</td>\n",
       "      <td>75.062500</td>\n",
       "      <td>73.862503</td>\n",
       "      <td>73.995300</td>\n",
       "      <td>73.995300</td>\n",
       "      <td>0.0</td>\n",
       "      <td>0.000000</td>\n",
       "      <td>0.000000</td>\n",
       "      <td>0</td>\n",
       "    </tr>\n",
       "    <tr>\n",
       "      <th>10-03-2020</th>\n",
       "      <td>75.144997</td>\n",
       "      <td>75.144997</td>\n",
       "      <td>73.735497</td>\n",
       "      <td>74.405998</td>\n",
       "      <td>74.405998</td>\n",
       "      <td>0.0</td>\n",
       "      <td>0.032762</td>\n",
       "      <td>0.006552</td>\n",
       "      <td>1</td>\n",
       "    </tr>\n",
       "    <tr>\n",
       "      <th>11-03-2020</th>\n",
       "      <td>74.205002</td>\n",
       "      <td>74.404999</td>\n",
       "      <td>73.404503</td>\n",
       "      <td>74.205002</td>\n",
       "      <td>74.205002</td>\n",
       "      <td>0.0</td>\n",
       "      <td>0.042023</td>\n",
       "      <td>0.013647</td>\n",
       "      <td>1</td>\n",
       "    </tr>\n",
       "    <tr>\n",
       "      <th>12-03-2020</th>\n",
       "      <td>74.760002</td>\n",
       "      <td>75.379997</td>\n",
       "      <td>73.994499</td>\n",
       "      <td>74.760002</td>\n",
       "      <td>74.760002</td>\n",
       "      <td>0.0</td>\n",
       "      <td>0.093074</td>\n",
       "      <td>0.029532</td>\n",
       "      <td>1</td>\n",
       "    </tr>\n",
       "    <tr>\n",
       "      <th>13-03-2020</th>\n",
       "      <td>74.436096</td>\n",
       "      <td>75.434998</td>\n",
       "      <td>73.699501</td>\n",
       "      <td>75.300003</td>\n",
       "      <td>75.300003</td>\n",
       "      <td>0.0</td>\n",
       "      <td>0.175087</td>\n",
       "      <td>0.058643</td>\n",
       "      <td>1</td>\n",
       "    </tr>\n",
       "  </tbody>\n",
       "</table>\n",
       "</div>"
      ],
      "text/plain": [
       "                 Open       High        Low      Close  Adj Close  Volume  \\\n",
       "Date                                                                        \n",
       "09-03-2020  73.995300  75.062500  73.862503  73.995300  73.995300     0.0   \n",
       "10-03-2020  75.144997  75.144997  73.735497  74.405998  74.405998     0.0   \n",
       "11-03-2020  74.205002  74.404999  73.404503  74.205002  74.205002     0.0   \n",
       "12-03-2020  74.760002  75.379997  73.994499  74.760002  74.760002     0.0   \n",
       "13-03-2020  74.436096  75.434998  73.699501  75.300003  75.300003     0.0   \n",
       "\n",
       "                MACD    Signal  Label  \n",
       "Date                                   \n",
       "09-03-2020  0.000000  0.000000      0  \n",
       "10-03-2020  0.032762  0.006552      1  \n",
       "11-03-2020  0.042023  0.013647      1  \n",
       "12-03-2020  0.093074  0.029532      1  \n",
       "13-03-2020  0.175087  0.058643      1  "
      ]
     },
     "execution_count": 12,
     "metadata": {},
     "output_type": "execute_result"
    }
   ],
   "source": [
    "df.set_index('Date',drop=True,inplace=True) \n",
    "df.head()"
   ]
  },
  {
   "cell_type": "code",
   "execution_count": 13,
   "id": "37bc6ed6",
   "metadata": {},
   "outputs": [
    {
     "name": "stderr",
     "output_type": "stream",
     "text": [
      "C:\\Users\\riyag\\AppData\\Local\\Temp\\ipykernel_8332\\201086547.py:1: FutureWarning: In a future version of pandas all arguments of DataFrame.drop except for the argument 'labels' will be keyword-only.\n",
      "  x=df.drop('Label',1)\n"
     ]
    }
   ],
   "source": [
    "x=df.drop('Label',1)\n",
    "y=df.Label"
   ]
  },
  {
   "cell_type": "markdown",
   "id": "1d4b76e0",
   "metadata": {},
   "source": [
    "# Data Preprocessing"
   ]
  },
  {
   "cell_type": "code",
   "execution_count": 14,
   "id": "9d338d83",
   "metadata": {},
   "outputs": [
    {
     "data": {
      "text/plain": [
       "(782, 9)"
      ]
     },
     "execution_count": 14,
     "metadata": {},
     "output_type": "execute_result"
    }
   ],
   "source": [
    "df.shape"
   ]
  },
  {
   "cell_type": "code",
   "execution_count": 15,
   "id": "09b52d4f",
   "metadata": {},
   "outputs": [
    {
     "data": {
      "text/plain": [
       "Open         0\n",
       "High         0\n",
       "Low          0\n",
       "Close        0\n",
       "Adj Close    0\n",
       "Volume       0\n",
       "MACD         0\n",
       "Signal       0\n",
       "Label        0\n",
       "dtype: int64"
      ]
     },
     "execution_count": 15,
     "metadata": {},
     "output_type": "execute_result"
    }
   ],
   "source": [
    "df.isnull().sum()"
   ]
  },
  {
   "cell_type": "code",
   "execution_count": null,
   "id": "0f210e31",
   "metadata": {},
   "outputs": [],
   "source": []
  },
  {
   "cell_type": "code",
   "execution_count": 16,
   "id": "e95c2c3b",
   "metadata": {},
   "outputs": [
    {
     "name": "stdout",
     "output_type": "stream",
     "text": [
      "<class 'pandas.core.frame.DataFrame'>\n",
      "Index: 782 entries, 09-03-2020 to 07-03-2023\n",
      "Data columns (total 9 columns):\n",
      " #   Column     Non-Null Count  Dtype  \n",
      "---  ------     --------------  -----  \n",
      " 0   Open       782 non-null    float64\n",
      " 1   High       782 non-null    float64\n",
      " 2   Low        782 non-null    float64\n",
      " 3   Close      782 non-null    float64\n",
      " 4   Adj Close  782 non-null    float64\n",
      " 5   Volume     782 non-null    float64\n",
      " 6   MACD       782 non-null    float64\n",
      " 7   Signal     782 non-null    float64\n",
      " 8   Label      782 non-null    int64  \n",
      "dtypes: float64(8), int64(1)\n",
      "memory usage: 61.1+ KB\n"
     ]
    }
   ],
   "source": [
    "df.info()"
   ]
  },
  {
   "cell_type": "code",
   "execution_count": 17,
   "id": "9cfe5bce",
   "metadata": {},
   "outputs": [
    {
     "data": {
      "text/plain": [
       "Open         float64\n",
       "High         float64\n",
       "Low          float64\n",
       "Close        float64\n",
       "Adj Close    float64\n",
       "Volume       float64\n",
       "MACD         float64\n",
       "Signal       float64\n",
       "Label          int64\n",
       "dtype: object"
      ]
     },
     "execution_count": 17,
     "metadata": {},
     "output_type": "execute_result"
    }
   ],
   "source": [
    "df.dtypes"
   ]
  },
  {
   "cell_type": "markdown",
   "id": "fcc14b86",
   "metadata": {},
   "source": [
    "# Splitting data for training and Testing"
   ]
  },
  {
   "cell_type": "code",
   "execution_count": 18,
   "id": "232058cb",
   "metadata": {},
   "outputs": [],
   "source": [
    "from sklearn.model_selection import train_test_split"
   ]
  },
  {
   "cell_type": "code",
   "execution_count": 19,
   "id": "053d44b4",
   "metadata": {},
   "outputs": [],
   "source": [
    "x_train,x_test,y_train,y_test=train_test_split(x,y,test_size=0.2,random_state=1)"
   ]
  },
  {
   "cell_type": "code",
   "execution_count": 20,
   "id": "7c4d5d9d",
   "metadata": {},
   "outputs": [
    {
     "data": {
      "text/html": [
       "<div>\n",
       "<style scoped>\n",
       "    .dataframe tbody tr th:only-of-type {\n",
       "        vertical-align: middle;\n",
       "    }\n",
       "\n",
       "    .dataframe tbody tr th {\n",
       "        vertical-align: top;\n",
       "    }\n",
       "\n",
       "    .dataframe thead th {\n",
       "        text-align: right;\n",
       "    }\n",
       "</style>\n",
       "<table border=\"1\" class=\"dataframe\">\n",
       "  <thead>\n",
       "    <tr style=\"text-align: right;\">\n",
       "      <th></th>\n",
       "      <th>Open</th>\n",
       "      <th>High</th>\n",
       "      <th>Low</th>\n",
       "      <th>Close</th>\n",
       "      <th>Adj Close</th>\n",
       "      <th>Volume</th>\n",
       "      <th>MACD</th>\n",
       "      <th>Signal</th>\n",
       "    </tr>\n",
       "    <tr>\n",
       "      <th>Date</th>\n",
       "      <th></th>\n",
       "      <th></th>\n",
       "      <th></th>\n",
       "      <th></th>\n",
       "      <th></th>\n",
       "      <th></th>\n",
       "      <th></th>\n",
       "      <th></th>\n",
       "    </tr>\n",
       "  </thead>\n",
       "  <tbody>\n",
       "    <tr>\n",
       "      <th>16-08-2022</th>\n",
       "      <td>79.552902</td>\n",
       "      <td>79.779999</td>\n",
       "      <td>79.261002</td>\n",
       "      <td>79.552902</td>\n",
       "      <td>79.552902</td>\n",
       "      <td>0.0</td>\n",
       "      <td>0.102248</td>\n",
       "      <td>0.122605</td>\n",
       "    </tr>\n",
       "    <tr>\n",
       "      <th>26-05-2022</th>\n",
       "      <td>77.497299</td>\n",
       "      <td>77.723999</td>\n",
       "      <td>77.468498</td>\n",
       "      <td>77.497299</td>\n",
       "      <td>77.497299</td>\n",
       "      <td>0.0</td>\n",
       "      <td>0.330845</td>\n",
       "      <td>0.340866</td>\n",
       "    </tr>\n",
       "    <tr>\n",
       "      <th>17-03-2022</th>\n",
       "      <td>76.024200</td>\n",
       "      <td>76.238503</td>\n",
       "      <td>75.759003</td>\n",
       "      <td>76.024200</td>\n",
       "      <td>76.024200</td>\n",
       "      <td>0.0</td>\n",
       "      <td>0.390128</td>\n",
       "      <td>0.386368</td>\n",
       "    </tr>\n",
       "    <tr>\n",
       "      <th>29-06-2021</th>\n",
       "      <td>74.285599</td>\n",
       "      <td>74.337799</td>\n",
       "      <td>74.189003</td>\n",
       "      <td>74.285400</td>\n",
       "      <td>74.285400</td>\n",
       "      <td>0.0</td>\n",
       "      <td>0.286244</td>\n",
       "      <td>0.176136</td>\n",
       "    </tr>\n",
       "    <tr>\n",
       "      <th>14-07-2021</th>\n",
       "      <td>74.659500</td>\n",
       "      <td>74.869003</td>\n",
       "      <td>74.456001</td>\n",
       "      <td>74.659103</td>\n",
       "      <td>74.659103</td>\n",
       "      <td>0.0</td>\n",
       "      <td>0.303864</td>\n",
       "      <td>0.307006</td>\n",
       "    </tr>\n",
       "    <tr>\n",
       "      <th>...</th>\n",
       "      <td>...</td>\n",
       "      <td>...</td>\n",
       "      <td>...</td>\n",
       "      <td>...</td>\n",
       "      <td>...</td>\n",
       "      <td>...</td>\n",
       "      <td>...</td>\n",
       "      <td>...</td>\n",
       "    </tr>\n",
       "    <tr>\n",
       "      <th>05-12-2022</th>\n",
       "      <td>81.422501</td>\n",
       "      <td>81.894997</td>\n",
       "      <td>81.193497</td>\n",
       "      <td>81.422501</td>\n",
       "      <td>81.422501</td>\n",
       "      <td>0.0</td>\n",
       "      <td>-0.098598</td>\n",
       "      <td>-0.086365</td>\n",
       "    </tr>\n",
       "    <tr>\n",
       "      <th>15-02-2023</th>\n",
       "      <td>82.867599</td>\n",
       "      <td>82.986000</td>\n",
       "      <td>82.759499</td>\n",
       "      <td>82.867599</td>\n",
       "      <td>82.867599</td>\n",
       "      <td>0.0</td>\n",
       "      <td>0.213798</td>\n",
       "      <td>0.091706</td>\n",
       "    </tr>\n",
       "    <tr>\n",
       "      <th>17-06-2020</th>\n",
       "      <td>76.403702</td>\n",
       "      <td>76.654999</td>\n",
       "      <td>76.094498</td>\n",
       "      <td>76.654999</td>\n",
       "      <td>76.654999</td>\n",
       "      <td>0.0</td>\n",
       "      <td>0.074204</td>\n",
       "      <td>-0.026874</td>\n",
       "    </tr>\n",
       "    <tr>\n",
       "      <th>01-02-2021</th>\n",
       "      <td>72.906601</td>\n",
       "      <td>73.203400</td>\n",
       "      <td>72.817101</td>\n",
       "      <td>72.906601</td>\n",
       "      <td>72.906601</td>\n",
       "      <td>0.0</td>\n",
       "      <td>-0.169456</td>\n",
       "      <td>-0.170108</td>\n",
       "    </tr>\n",
       "    <tr>\n",
       "      <th>29-04-2020</th>\n",
       "      <td>76.464996</td>\n",
       "      <td>76.464996</td>\n",
       "      <td>75.412003</td>\n",
       "      <td>76.464996</td>\n",
       "      <td>76.464996</td>\n",
       "      <td>0.0</td>\n",
       "      <td>0.259485</td>\n",
       "      <td>0.384816</td>\n",
       "    </tr>\n",
       "  </tbody>\n",
       "</table>\n",
       "<p>625 rows × 8 columns</p>\n",
       "</div>"
      ],
      "text/plain": [
       "                 Open       High        Low      Close  Adj Close  Volume  \\\n",
       "Date                                                                        \n",
       "16-08-2022  79.552902  79.779999  79.261002  79.552902  79.552902     0.0   \n",
       "26-05-2022  77.497299  77.723999  77.468498  77.497299  77.497299     0.0   \n",
       "17-03-2022  76.024200  76.238503  75.759003  76.024200  76.024200     0.0   \n",
       "29-06-2021  74.285599  74.337799  74.189003  74.285400  74.285400     0.0   \n",
       "14-07-2021  74.659500  74.869003  74.456001  74.659103  74.659103     0.0   \n",
       "...               ...        ...        ...        ...        ...     ...   \n",
       "05-12-2022  81.422501  81.894997  81.193497  81.422501  81.422501     0.0   \n",
       "15-02-2023  82.867599  82.986000  82.759499  82.867599  82.867599     0.0   \n",
       "17-06-2020  76.403702  76.654999  76.094498  76.654999  76.654999     0.0   \n",
       "01-02-2021  72.906601  73.203400  72.817101  72.906601  72.906601     0.0   \n",
       "29-04-2020  76.464996  76.464996  75.412003  76.464996  76.464996     0.0   \n",
       "\n",
       "                MACD    Signal  \n",
       "Date                            \n",
       "16-08-2022  0.102248  0.122605  \n",
       "26-05-2022  0.330845  0.340866  \n",
       "17-03-2022  0.390128  0.386368  \n",
       "29-06-2021  0.286244  0.176136  \n",
       "14-07-2021  0.303864  0.307006  \n",
       "...              ...       ...  \n",
       "05-12-2022 -0.098598 -0.086365  \n",
       "15-02-2023  0.213798  0.091706  \n",
       "17-06-2020  0.074204 -0.026874  \n",
       "01-02-2021 -0.169456 -0.170108  \n",
       "29-04-2020  0.259485  0.384816  \n",
       "\n",
       "[625 rows x 8 columns]"
      ]
     },
     "execution_count": 20,
     "metadata": {},
     "output_type": "execute_result"
    }
   ],
   "source": [
    "x_train"
   ]
  },
  {
   "cell_type": "code",
   "execution_count": 21,
   "id": "c3979dd2",
   "metadata": {},
   "outputs": [
    {
     "data": {
      "text/html": [
       "<div>\n",
       "<style scoped>\n",
       "    .dataframe tbody tr th:only-of-type {\n",
       "        vertical-align: middle;\n",
       "    }\n",
       "\n",
       "    .dataframe tbody tr th {\n",
       "        vertical-align: top;\n",
       "    }\n",
       "\n",
       "    .dataframe thead th {\n",
       "        text-align: right;\n",
       "    }\n",
       "</style>\n",
       "<table border=\"1\" class=\"dataframe\">\n",
       "  <thead>\n",
       "    <tr style=\"text-align: right;\">\n",
       "      <th></th>\n",
       "      <th>Open</th>\n",
       "      <th>High</th>\n",
       "      <th>Low</th>\n",
       "      <th>Close</th>\n",
       "      <th>Adj Close</th>\n",
       "      <th>Volume</th>\n",
       "      <th>MACD</th>\n",
       "      <th>Signal</th>\n",
       "    </tr>\n",
       "    <tr>\n",
       "      <th>Date</th>\n",
       "      <th></th>\n",
       "      <th></th>\n",
       "      <th></th>\n",
       "      <th></th>\n",
       "      <th></th>\n",
       "      <th></th>\n",
       "      <th></th>\n",
       "      <th></th>\n",
       "    </tr>\n",
       "  </thead>\n",
       "  <tbody>\n",
       "    <tr>\n",
       "      <th>31-08-2022</th>\n",
       "      <td>79.682297</td>\n",
       "      <td>79.743797</td>\n",
       "      <td>79.352997</td>\n",
       "      <td>79.682297</td>\n",
       "      <td>79.682297</td>\n",
       "      <td>0.0</td>\n",
       "      <td>0.156773</td>\n",
       "      <td>0.148679</td>\n",
       "    </tr>\n",
       "    <tr>\n",
       "      <th>15-03-2021</th>\n",
       "      <td>72.682999</td>\n",
       "      <td>72.781998</td>\n",
       "      <td>72.392303</td>\n",
       "      <td>72.682999</td>\n",
       "      <td>72.682999</td>\n",
       "      <td>0.0</td>\n",
       "      <td>-0.035853</td>\n",
       "      <td>-0.009688</td>\n",
       "    </tr>\n",
       "    <tr>\n",
       "      <th>11-08-2020</th>\n",
       "      <td>75.099998</td>\n",
       "      <td>75.099998</td>\n",
       "      <td>74.515999</td>\n",
       "      <td>75.099998</td>\n",
       "      <td>75.099998</td>\n",
       "      <td>0.0</td>\n",
       "      <td>-0.081729</td>\n",
       "      <td>-0.119059</td>\n",
       "    </tr>\n",
       "    <tr>\n",
       "      <th>04-05-2021</th>\n",
       "      <td>73.837502</td>\n",
       "      <td>74.476997</td>\n",
       "      <td>73.738503</td>\n",
       "      <td>73.837502</td>\n",
       "      <td>73.837502</td>\n",
       "      <td>0.0</td>\n",
       "      <td>0.185907</td>\n",
       "      <td>0.374497</td>\n",
       "    </tr>\n",
       "    <tr>\n",
       "      <th>25-06-2021</th>\n",
       "      <td>74.190300</td>\n",
       "      <td>74.390999</td>\n",
       "      <td>74.116798</td>\n",
       "      <td>74.190300</td>\n",
       "      <td>74.190300</td>\n",
       "      <td>0.0</td>\n",
       "      <td>0.265261</td>\n",
       "      <td>0.116874</td>\n",
       "    </tr>\n",
       "    <tr>\n",
       "      <th>...</th>\n",
       "      <td>...</td>\n",
       "      <td>...</td>\n",
       "      <td>...</td>\n",
       "      <td>...</td>\n",
       "      <td>...</td>\n",
       "      <td>...</td>\n",
       "      <td>...</td>\n",
       "      <td>...</td>\n",
       "    </tr>\n",
       "    <tr>\n",
       "      <th>03-03-2021</th>\n",
       "      <td>73.277496</td>\n",
       "      <td>73.319801</td>\n",
       "      <td>72.728798</td>\n",
       "      <td>73.277496</td>\n",
       "      <td>73.277496</td>\n",
       "      <td>0.0</td>\n",
       "      <td>0.023558</td>\n",
       "      <td>-0.081625</td>\n",
       "    </tr>\n",
       "    <tr>\n",
       "      <th>22-02-2022</th>\n",
       "      <td>74.523804</td>\n",
       "      <td>74.992401</td>\n",
       "      <td>74.523804</td>\n",
       "      <td>74.516998</td>\n",
       "      <td>74.516998</td>\n",
       "      <td>0.0</td>\n",
       "      <td>0.059063</td>\n",
       "      <td>0.097557</td>\n",
       "    </tr>\n",
       "    <tr>\n",
       "      <th>30-12-2021</th>\n",
       "      <td>74.570297</td>\n",
       "      <td>74.646202</td>\n",
       "      <td>74.293999</td>\n",
       "      <td>74.570297</td>\n",
       "      <td>74.570297</td>\n",
       "      <td>0.0</td>\n",
       "      <td>-0.002279</td>\n",
       "      <td>0.168384</td>\n",
       "    </tr>\n",
       "    <tr>\n",
       "      <th>22-07-2021</th>\n",
       "      <td>74.440201</td>\n",
       "      <td>74.509003</td>\n",
       "      <td>74.307999</td>\n",
       "      <td>74.440201</td>\n",
       "      <td>74.440201</td>\n",
       "      <td>0.0</td>\n",
       "      <td>0.220054</td>\n",
       "      <td>0.265645</td>\n",
       "    </tr>\n",
       "    <tr>\n",
       "      <th>20-10-2020</th>\n",
       "      <td>73.393700</td>\n",
       "      <td>73.574997</td>\n",
       "      <td>73.294998</td>\n",
       "      <td>73.574997</td>\n",
       "      <td>73.574997</td>\n",
       "      <td>0.0</td>\n",
       "      <td>-0.106526</td>\n",
       "      <td>-0.140523</td>\n",
       "    </tr>\n",
       "  </tbody>\n",
       "</table>\n",
       "<p>157 rows × 8 columns</p>\n",
       "</div>"
      ],
      "text/plain": [
       "                 Open       High        Low      Close  Adj Close  Volume  \\\n",
       "Date                                                                        \n",
       "31-08-2022  79.682297  79.743797  79.352997  79.682297  79.682297     0.0   \n",
       "15-03-2021  72.682999  72.781998  72.392303  72.682999  72.682999     0.0   \n",
       "11-08-2020  75.099998  75.099998  74.515999  75.099998  75.099998     0.0   \n",
       "04-05-2021  73.837502  74.476997  73.738503  73.837502  73.837502     0.0   \n",
       "25-06-2021  74.190300  74.390999  74.116798  74.190300  74.190300     0.0   \n",
       "...               ...        ...        ...        ...        ...     ...   \n",
       "03-03-2021  73.277496  73.319801  72.728798  73.277496  73.277496     0.0   \n",
       "22-02-2022  74.523804  74.992401  74.523804  74.516998  74.516998     0.0   \n",
       "30-12-2021  74.570297  74.646202  74.293999  74.570297  74.570297     0.0   \n",
       "22-07-2021  74.440201  74.509003  74.307999  74.440201  74.440201     0.0   \n",
       "20-10-2020  73.393700  73.574997  73.294998  73.574997  73.574997     0.0   \n",
       "\n",
       "                MACD    Signal  \n",
       "Date                            \n",
       "31-08-2022  0.156773  0.148679  \n",
       "15-03-2021 -0.035853 -0.009688  \n",
       "11-08-2020 -0.081729 -0.119059  \n",
       "04-05-2021  0.185907  0.374497  \n",
       "25-06-2021  0.265261  0.116874  \n",
       "...              ...       ...  \n",
       "03-03-2021  0.023558 -0.081625  \n",
       "22-02-2022  0.059063  0.097557  \n",
       "30-12-2021 -0.002279  0.168384  \n",
       "22-07-2021  0.220054  0.265645  \n",
       "20-10-2020 -0.106526 -0.140523  \n",
       "\n",
       "[157 rows x 8 columns]"
      ]
     },
     "execution_count": 21,
     "metadata": {},
     "output_type": "execute_result"
    }
   ],
   "source": [
    "x_test"
   ]
  },
  {
   "cell_type": "code",
   "execution_count": 22,
   "id": "a6479640",
   "metadata": {},
   "outputs": [
    {
     "data": {
      "text/plain": [
       "Date\n",
       "16-08-2022    0\n",
       "26-05-2022    0\n",
       "17-03-2022    1\n",
       "29-06-2021    1\n",
       "14-07-2021    0\n",
       "             ..\n",
       "05-12-2022    0\n",
       "15-02-2023    1\n",
       "17-06-2020    1\n",
       "01-02-2021    1\n",
       "29-04-2020    0\n",
       "Name: Label, Length: 625, dtype: int64"
      ]
     },
     "execution_count": 22,
     "metadata": {},
     "output_type": "execute_result"
    }
   ],
   "source": [
    "y_train"
   ]
  },
  {
   "cell_type": "code",
   "execution_count": 23,
   "id": "ef95b426",
   "metadata": {},
   "outputs": [
    {
     "data": {
      "text/plain": [
       "Date\n",
       "31-08-2022    1\n",
       "15-03-2021    0\n",
       "11-08-2020    1\n",
       "04-05-2021    0\n",
       "25-06-2021    1\n",
       "             ..\n",
       "03-03-2021    1\n",
       "22-02-2022    0\n",
       "30-12-2021    0\n",
       "22-07-2021    0\n",
       "20-10-2020    1\n",
       "Name: Label, Length: 157, dtype: int64"
      ]
     },
     "execution_count": 23,
     "metadata": {},
     "output_type": "execute_result"
    }
   ],
   "source": [
    "y_test"
   ]
  },
  {
   "cell_type": "markdown",
   "id": "40a0c4c4",
   "metadata": {},
   "source": [
    "# Standardization & Normalisation"
   ]
  },
  {
   "cell_type": "code",
   "execution_count": 24,
   "id": "712f1aca",
   "metadata": {},
   "outputs": [],
   "source": [
    "x_train = x_train/100\n",
    "x_test = x_test/100"
   ]
  },
  {
   "cell_type": "code",
   "execution_count": 25,
   "id": "9674b234",
   "metadata": {},
   "outputs": [
    {
     "data": {
      "text/plain": [
       "(625, 8)"
      ]
     },
     "execution_count": 25,
     "metadata": {},
     "output_type": "execute_result"
    }
   ],
   "source": [
    "x_train.shape"
   ]
  },
  {
   "cell_type": "code",
   "execution_count": 26,
   "id": "5e82002e",
   "metadata": {},
   "outputs": [
    {
     "data": {
      "text/plain": [
       "(157, 8)"
      ]
     },
     "execution_count": 26,
     "metadata": {},
     "output_type": "execute_result"
    }
   ],
   "source": [
    "x_test.shape"
   ]
  },
  {
   "cell_type": "code",
   "execution_count": 27,
   "id": "5ff934d6",
   "metadata": {},
   "outputs": [
    {
     "name": "stdout",
     "output_type": "stream",
     "text": [
      "Test Accuracy =  51.0\n",
      "Train Accuracy =  52.0\n",
      "              precision    recall  f1-score   support\n",
      "\n",
      "           0       0.78      0.09      0.15        82\n",
      "           1       0.49      0.97      0.65        75\n",
      "\n",
      "    accuracy                           0.51       157\n",
      "   macro avg       0.64      0.53      0.40       157\n",
      "weighted avg       0.64      0.51      0.39       157\n",
      "\n"
     ]
    },
    {
     "data": {
      "image/png": "[encoded data removed]",
      "text/plain": [
       "<Figure size 432x288 with 1 Axes>"
      ]
     },
     "metadata": {
      "needs_background": "light"
     },
     "output_type": "display_data"
    }
   ],
   "source": [
    "from sklearn.linear_model import LogisticRegression\n",
    "from sklearn.metrics import accuracy_score\n",
    "from sklearn.metrics import classification_report,confusion_matrix\n",
    "clf_0 = LogisticRegression().fit(x_train, y_train)\n",
    "\n",
    "pred_y_0 = clf_0.predict(x_test)\n",
    "\n",
    "print( \"Test Accuracy = \" ,accuracy_score(pred_y_0, y_test).round(2) * 100)\n",
    "print( \"Train Accuracy = \" ,accuracy_score(clf_0.predict(x_train), y_train).round(2) * 100)\n",
    "\n",
    "cl = confusion_matrix(y_test,pred_y_0) \n",
    "sns.heatmap(cl, square=True, annot=True, cbar=False,  cmap=\"YlGnBu\" ,fmt='g')\n",
    "plt.xlabel('Truth')\n",
    "plt.ylabel('Predicted')\n",
    "\n",
    "print(classification_report(y_test, pred_y_0))"
   ]
  },
  {
   "cell_type": "code",
   "execution_count": 28,
   "id": "fa4526de",
   "metadata": {},
   "outputs": [
    {
     "name": "stdout",
     "output_type": "stream",
     "text": [
      "              precision    recall  f1-score   support\n",
      "\n",
      "           0       0.94      0.90      0.92        82\n",
      "           1       0.90      0.93      0.92        75\n",
      "\n",
      "    accuracy                           0.92       157\n",
      "   macro avg       0.92      0.92      0.92       157\n",
      "weighted avg       0.92      0.92      0.92       157\n",
      "\n",
      "Test Accuracy =  92.0\n",
      "Train Accuracy =  100.0\n"
     ]
    },
    {
     "data": {
      "image/png": "[encoded data removed]",
      "text/plain": [
       "<Figure size 432x288 with 1 Axes>"
      ]
     },
     "metadata": {
      "needs_background": "light"
     },
     "output_type": "display_data"
    }
   ],
   "source": [
    "from sklearn.tree import DecisionTreeClassifier\n",
    "\n",
    "DT = DecisionTreeClassifier()\n",
    "DT.fit(x_train, y_train)\n",
    "\n",
    "y_predict = DT.predict(x_test)\n",
    "\n",
    "cd = confusion_matrix(y_test,y_predict)\n",
    "sns.heatmap(cd, square=True, annot=True, cbar=False,  cmap=\"YlGnBu\" ,fmt='g')\n",
    "plt.xlabel('Truth')\n",
    "plt.ylabel('Predicted')\n",
    "\n",
    "#  prediction Summary by species\n",
    "print(classification_report(y_test, y_predict))\n",
    "\n",
    "# Accuracy score\n",
    "\n",
    "print( \"Test Accuracy = \" ,accuracy_score(y_predict, y_test).round(2) * 100)\n",
    "print( \"Train Accuracy = \" ,accuracy_score(DT.predict(x_train), y_train).round(2) * 100)"
   ]
  },
  {
   "cell_type": "code",
   "execution_count": 29,
   "id": "1503d3fb",
   "metadata": {},
   "outputs": [
    {
     "name": "stdout",
     "output_type": "stream",
     "text": [
      "              precision    recall  f1-score   support\n",
      "\n",
      "           0       0.70      0.71      0.70        82\n",
      "           1       0.68      0.67      0.67        75\n",
      "\n",
      "    accuracy                           0.69       157\n",
      "   macro avg       0.69      0.69      0.69       157\n",
      "weighted avg       0.69      0.69      0.69       157\n",
      "\n",
      "Test Accuracy =  69.0\n"
     ]
    },
    {
     "data": {
      "image/png": "[encoded data removed]",
      "text/plain": [
       "<Figure size 432x288 with 1 Axes>"
      ]
     },
     "metadata": {
      "needs_background": "light"
     },
     "output_type": "display_data"
    }
   ],
   "source": [
    "from sklearn.neighbors import KNeighborsClassifier\n",
    "from sklearn.metrics import accuracy_score\n",
    "knn = KNeighborsClassifier()   # initial value\n",
    "knn.fit(x_train,y_train)\n",
    "pred = knn.predict(x_test)\n",
    "\n",
    "from sklearn.metrics import classification_report,confusion_matrix\n",
    "cm = confusion_matrix(y_test,pred)\n",
    "sns.heatmap(cm, square=True, annot=True, cbar=False,  cmap=\"YlGnBu\" ,fmt='g')\n",
    "plt.xlabel('Truth')\n",
    "plt.ylabel('Predicted')\n",
    "print(classification_report(y_test,pred))\n",
    "print( \"Test Accuracy = \" ,accuracy_score(pred, y_test).round(2) * 100)"
   ]
  },
  {
   "cell_type": "code",
   "execution_count": 30,
   "id": "853f2e16",
   "metadata": {},
   "outputs": [
    {
     "data": {
      "text/plain": [
       "Text(0, 0.5, 'Error Rate')"
      ]
     },
     "execution_count": 30,
     "metadata": {},
     "output_type": "execute_result"
    },
    {
     "data": {
      "image/png": "[encoded data removed]",
      "text/plain": [
       "<Figure size 720x432 with 1 Axes>"
      ]
     },
     "metadata": {
      "needs_background": "light"
     },
     "output_type": "display_data"
    }
   ],
   "source": [
    "error_rate = []\n",
    "\n",
    "for i in range(1,25):\n",
    "    \n",
    "    knn = KNeighborsClassifier(n_neighbors=i)\n",
    "    knn.fit(x_train,y_train)\n",
    "    pred_i = knn.predict(x_test)\n",
    "    error_rate.append(np.mean(pred_i != y_test))\n",
    "    \n",
    "plt.figure(figsize=(10,6))\n",
    "plt.plot(range(1,25),error_rate,color='blue', linestyle='dashed', marker='o',\n",
    "         markerfacecolor='red', markersize=10)\n",
    "plt.title('Error Rate vs. K Value')\n",
    "plt.xlabel('K')\n",
    "plt.ylabel('Error Rate')"
   ]
  },
  {
   "cell_type": "code",
   "execution_count": 31,
   "id": "dd568653",
   "metadata": {},
   "outputs": [
    {
     "name": "stdout",
     "output_type": "stream",
     "text": [
      "              precision    recall  f1-score   support\n",
      "\n",
      "           0       0.73      0.77      0.75        82\n",
      "           1       0.73      0.69      0.71        75\n",
      "\n",
      "    accuracy                           0.73       157\n",
      "   macro avg       0.73      0.73      0.73       157\n",
      "weighted avg       0.73      0.73      0.73       157\n",
      "\n",
      "TestAccuracy =  73.0\n",
      "Train Accuracy =  86.0\n"
     ]
    },
    {
     "data": {
      "image/png": "[encoded data removed]",
      "text/plain": [
       "<Figure size 432x288 with 1 Axes>"
      ]
     },
     "metadata": {
      "needs_background": "light"
     },
     "output_type": "display_data"
    }
   ],
   "source": [
    "from sklearn.neighbors import KNeighborsClassifier\n",
    "from sklearn.metrics import accuracy_score\n",
    "knn = KNeighborsClassifier(n_neighbors=3)\n",
    "knn.fit(x_train,y_train)\n",
    "pred = knn.predict(x_test)\n",
    "\n",
    "from sklearn.metrics import classification_report,confusion_matrix\n",
    "cm = confusion_matrix(y_test,pred)\n",
    "sns.heatmap(cm, square=True, annot=True, cbar=False,  cmap=\"YlGnBu\" ,fmt='g')\n",
    "plt.xlabel('Truth')\n",
    "plt.ylabel('Predicted')\n",
    "print(classification_report(y_test,pred))\n",
    "print( \"TestAccuracy = \" ,accuracy_score(pred, y_test).round(2) * 100)\n",
    "print(\"Train Accuracy = \",accuracy_score(knn.predict(x_train), y_train).round(2) * 100)"
   ]
  },
  {
   "cell_type": "code",
   "execution_count": 32,
   "id": "d335197c",
   "metadata": {},
   "outputs": [
    {
     "name": "stdout",
     "output_type": "stream",
     "text": [
      "Test Accuracy =  48.0\n",
      "Train Accuracy =  51.0\n",
      "              precision    recall  f1-score   support\n",
      "\n",
      "           0       0.00      0.00      0.00        82\n",
      "           1       0.48      1.00      0.65        75\n",
      "\n",
      "    accuracy                           0.48       157\n",
      "   macro avg       0.24      0.50      0.32       157\n",
      "weighted avg       0.23      0.48      0.31       157\n",
      "\n"
     ]
    },
    {
     "name": "stderr",
     "output_type": "stream",
     "text": [
      "C:\\Users\\riyag\\Anaconda3\\lib\\site-packages\\sklearn\\metrics\\_classification.py:1318: UndefinedMetricWarning: Precision and F-score are ill-defined and being set to 0.0 in labels with no predicted samples. Use `zero_division` parameter to control this behavior.\n",
      "  _warn_prf(average, modifier, msg_start, len(result))\n",
      "C:\\Users\\riyag\\Anaconda3\\lib\\site-packages\\sklearn\\metrics\\_classification.py:1318: UndefinedMetricWarning: Precision and F-score are ill-defined and being set to 0.0 in labels with no predicted samples. Use `zero_division` parameter to control this behavior.\n",
      "  _warn_prf(average, modifier, msg_start, len(result))\n",
      "C:\\Users\\riyag\\Anaconda3\\lib\\site-packages\\sklearn\\metrics\\_classification.py:1318: UndefinedMetricWarning: Precision and F-score are ill-defined and being set to 0.0 in labels with no predicted samples. Use `zero_division` parameter to control this behavior.\n",
      "  _warn_prf(average, modifier, msg_start, len(result))\n"
     ]
    },
    {
     "data": {
      "image/png": "[encoded data removed]",
      "text/plain": [
       "<Figure size 432x288 with 1 Axes>"
      ]
     },
     "metadata": {
      "needs_background": "light"
     },
     "output_type": "display_data"
    }
   ],
   "source": [
    "from sklearn import svm\n",
    "clf=svm.SVC()\n",
    "clf.fit(x_train,y_train)\n",
    "y_predict_a = clf.predict(x_test)\n",
    "\n",
    "print( \"Test Accuracy = \" ,accuracy_score(y_predict_a, y_test).round(2) * 100)\n",
    "print( \"Train Accuracy = \" ,accuracy_score(clf.predict(x_train), y_train).round(2) * 100)\n",
    "\n",
    "cl = confusion_matrix(y_test,y_predict_a) \n",
    "sns.heatmap(cl, square=True, annot=True, cbar=False,  cmap=\"YlGnBu\" ,fmt='g')\n",
    "plt.xlabel('Truth')\n",
    "plt.ylabel('Predicted')\n",
    "\n",
    "print(classification_report(y_test,y_predict_a))"
   ]
  },
  {
   "cell_type": "code",
   "execution_count": 33,
   "id": "38ac23f8",
   "metadata": {},
   "outputs": [
    {
     "name": "stdout",
     "output_type": "stream",
     "text": [
      "Test Accuracy =  94.0\n",
      "Train Accuracy =  99.0\n",
      "              precision    recall  f1-score   support\n",
      "\n",
      "           0       0.99      0.90      0.94        82\n",
      "           1       0.90      0.99      0.94        75\n",
      "\n",
      "    accuracy                           0.94       157\n",
      "   macro avg       0.94      0.94      0.94       157\n",
      "weighted avg       0.95      0.94      0.94       157\n",
      "\n"
     ]
    },
    {
     "data": {
      "image/png": "[encoded data removed]",
      "text/plain": [
       "<Figure size 432x288 with 1 Axes>"
      ]
     },
     "metadata": {
      "needs_background": "light"
     },
     "output_type": "display_data"
    }
   ],
   "source": [
    "from sklearn.ensemble import GradientBoostingClassifier\n",
    "gb=GradientBoostingClassifier()\n",
    "gb.fit(x_train,y_train)\n",
    "y_predict_a = gb.predict(x_test)\n",
    "\n",
    "print( \"Test Accuracy = \" ,accuracy_score(y_predict_a, y_test).round(2) * 100)\n",
    "print( \"Train Accuracy = \" ,accuracy_score(gb.predict(x_train), y_train).round(2) * 100)\n",
    "\n",
    "cl = confusion_matrix(y_test,y_predict_a) \n",
    "sns.heatmap(cl, square=True, annot=True, cbar=False,  cmap=\"YlGnBu\" ,fmt='g')\n",
    "plt.xlabel('Truth')\n",
    "plt.ylabel('Predicted')\n",
    "\n",
    "print(classification_report(y_test,y_predict_a))"
   ]
  },
  {
   "cell_type": "code",
   "execution_count": 34,
   "id": "0a655a50",
   "metadata": {},
   "outputs": [
    {
     "name": "stdout",
     "output_type": "stream",
     "text": [
      "Test Accuracy =  56.99999999999999\n",
      "Train Accuracy =  54.0\n",
      "              precision    recall  f1-score   support\n",
      "\n",
      "           0       0.57      0.71      0.63        82\n",
      "           1       0.57      0.43      0.49        75\n",
      "\n",
      "    accuracy                           0.57       157\n",
      "   macro avg       0.57      0.57      0.56       157\n",
      "weighted avg       0.57      0.57      0.56       157\n",
      "\n"
     ]
    },
    {
     "data": {
      "image/png": "[encoded data removed]",
      "text/plain": [
       "<Figure size 432x288 with 1 Axes>"
      ]
     },
     "metadata": {
      "needs_background": "light"
     },
     "output_type": "display_data"
    }
   ],
   "source": [
    "from sklearn.naive_bayes import GaussianNB\n",
    "nb=GaussianNB()\n",
    "nb.fit(x_train,y_train)\n",
    "y_predict_a = nb.predict(x_test)\n",
    "\n",
    "print( \"Test Accuracy = \" ,accuracy_score(y_predict_a, y_test).round(2) * 100)\n",
    "print( \"Train Accuracy = \" ,accuracy_score(nb.predict(x_train), y_train).round(2) * 100)\n",
    "\n",
    "cl = confusion_matrix(y_test,y_predict_a) \n",
    "sns.heatmap(cl, square=True, annot=True, cbar=False,  cmap=\"YlGnBu\" ,fmt='g')\n",
    "plt.xlabel('Truth')\n",
    "plt.ylabel('Predicted')\n",
    "\n",
    "print(classification_report(y_test,y_predict_a))"
   ]
  },
  {
   "cell_type": "code",
   "execution_count": 35,
   "id": "7f7d8223",
   "metadata": {},
   "outputs": [
    {
     "name": "stdout",
     "output_type": "stream",
     "text": [
      "Test Accuracy =  56.99999999999999\n",
      "Train Accuracy =  54.0\n",
      "              precision    recall  f1-score   support\n",
      "\n",
      "           0       0.57      0.71      0.63        82\n",
      "           1       0.57      0.43      0.49        75\n",
      "\n",
      "    accuracy                           0.57       157\n",
      "   macro avg       0.57      0.57      0.56       157\n",
      "weighted avg       0.57      0.57      0.56       157\n",
      "\n"
     ]
    },
    {
     "data": {
      "image/png": "[encoded data removed]",
      "text/plain": [
       "<Figure size 432x288 with 1 Axes>"
      ]
     },
     "metadata": {
      "needs_background": "light"
     },
     "output_type": "display_data"
    }
   ],
   "source": [
    "from sklearn.naive_bayes import GaussianNB\n",
    "nb=GaussianNB()\n",
    "nb.fit(x_train,y_train)\n",
    "y_predict_a = nb.predict(x_test)\n",
    "\n",
    "print( \"Test Accuracy = \" ,accuracy_score(y_predict_a, y_test).round(2) * 100)\n",
    "print( \"Train Accuracy = \" ,accuracy_score(nb.predict(x_train), y_train).round(2) * 100)\n",
    "\n",
    "cl = confusion_matrix(y_test,y_predict_a) \n",
    "sns.heatmap(cl, square=True, annot=True, cbar=False,  cmap=\"YlGnBu\" ,fmt='g')\n",
    "plt.xlabel('Truth')\n",
    "plt.ylabel('Predicted')\n",
    "\n",
    "print(classification_report(y_test,y_predict_a))"
   ]
  },
  {
   "cell_type": "code",
   "execution_count": 36,
   "id": "e02b60fd",
   "metadata": {},
   "outputs": [
    {
     "name": "stdout",
     "output_type": "stream",
     "text": [
      "Test Accuracy =  48.0\n",
      "Train Accuracy =  51.0\n",
      "              precision    recall  f1-score   support\n",
      "\n",
      "           0       0.00      0.00      0.00        82\n",
      "           1       0.48      1.00      0.65        75\n",
      "\n",
      "    accuracy                           0.48       157\n",
      "   macro avg       0.24      0.50      0.32       157\n",
      "weighted avg       0.23      0.48      0.31       157\n",
      "\n"
     ]
    },
    {
     "name": "stderr",
     "output_type": "stream",
     "text": [
      "C:\\Users\\riyag\\Anaconda3\\lib\\site-packages\\sklearn\\metrics\\_classification.py:1318: UndefinedMetricWarning: Precision and F-score are ill-defined and being set to 0.0 in labels with no predicted samples. Use `zero_division` parameter to control this behavior.\n",
      "  _warn_prf(average, modifier, msg_start, len(result))\n",
      "C:\\Users\\riyag\\Anaconda3\\lib\\site-packages\\sklearn\\metrics\\_classification.py:1318: UndefinedMetricWarning: Precision and F-score are ill-defined and being set to 0.0 in labels with no predicted samples. Use `zero_division` parameter to control this behavior.\n",
      "  _warn_prf(average, modifier, msg_start, len(result))\n",
      "C:\\Users\\riyag\\Anaconda3\\lib\\site-packages\\sklearn\\metrics\\_classification.py:1318: UndefinedMetricWarning: Precision and F-score are ill-defined and being set to 0.0 in labels with no predicted samples. Use `zero_division` parameter to control this behavior.\n",
      "  _warn_prf(average, modifier, msg_start, len(result))\n"
     ]
    },
    {
     "data": {
      "image/png": "[encoded data removed]",
      "text/plain": [
       "<Figure size 432x288 with 1 Axes>"
      ]
     },
     "metadata": {
      "needs_background": "light"
     },
     "output_type": "display_data"
    }
   ],
   "source": [
    "from sklearn.neural_network import MLPClassifier\n",
    "NN=MLPClassifier(activation='relu')\n",
    "NN.fit(x_train,y_train)\n",
    "y_predict_a = NN.predict(x_test)\n",
    "\n",
    "print( \"Test Accuracy = \" ,accuracy_score(y_predict_a, y_test).round(2) * 100)\n",
    "print( \"Train Accuracy = \" ,accuracy_score(NN.predict(x_train), y_train).round(2) * 100)\n",
    "\n",
    "cl = confusion_matrix(y_test,y_predict_a) \n",
    "sns.heatmap(cl, square=True, annot=True, cbar=False,  cmap=\"YlGnBu\" ,fmt='g')\n",
    "plt.xlabel('Truth')\n",
    "plt.ylabel('Predicted')\n",
    "\n",
    "print(classification_report(y_test,y_predict_a))"
   ]
  },
  {
   "cell_type": "code",
   "execution_count": 37,
   "id": "046500ff",
   "metadata": {},
   "outputs": [],
   "source": [
    "from tensorflow import keras\n",
    "from keras import optimizers\n",
    "from keras.models import Sequential,Model\n",
    "from keras.layers import Dense,Activation, Dropout,Flatten\n",
    "from tensorflow.keras.optimizers.legacy import Adam,SGD"
   ]
  },
  {
   "cell_type": "code",
   "execution_count": 38,
   "id": "e7c7e18c",
   "metadata": {},
   "outputs": [
    {
     "name": "stdout",
     "output_type": "stream",
     "text": [
      "Model: \"sequential\"\n",
      "_________________________________________________________________\n",
      " Layer (type)                Output Shape              Param #   \n",
      "=================================================================\n",
      " lstm (LSTM)                 (None, 8, 8)              320       \n",
      "                                                                 \n",
      " lstm_1 (LSTM)               (None, 4)                 208       \n",
      "                                                                 \n",
      " dense (Dense)               (None, 1)                 5         \n",
      "                                                                 \n",
      "=================================================================\n",
      "Total params: 533\n",
      "Trainable params: 533\n",
      "Non-trainable params: 0\n",
      "_________________________________________________________________\n"
     ]
    }
   ],
   "source": [
    "from keras.layers import LSTM\n",
    "model = Sequential()\n",
    "model.add(LSTM(units=8, return_sequences=True, input_shape =(x_train.shape[1],1), activation='sigmoid'))\n",
    "model.add(LSTM(units=4,activation='sigmoid'))\n",
    "model.add(Dense(1,activation='sigmoid'))\n",
    "\n",
    "model.compile(loss='mean_squared_error', optimizer='adam', metrics=['Accuracy'])\n",
    "\n",
    "model.summary()"
   ]
  },
  {
   "cell_type": "code",
   "execution_count": 39,
   "id": "cfacaaf1",
   "metadata": {},
   "outputs": [],
   "source": [
    "from keras.callbacks import EarlyStopping\n",
    "early_stopping = EarlyStopping(monitor='loss', mode='min', verbose=1, patience=5)"
   ]
  },
  {
   "cell_type": "code",
   "execution_count": 40,
   "id": "a5f90080",
   "metadata": {},
   "outputs": [
    {
     "name": "stdout",
     "output_type": "stream",
     "text": [
      "Epoch 1/200\n",
      "20/20 [==============================] - 4s 9ms/step - loss: 0.2499 - Accuracy: 0.5136\n",
      "Epoch 2/200\n",
      "20/20 [==============================] - 0s 8ms/step - loss: 0.2500 - Accuracy: 0.5136\n",
      "Epoch 3/200\n",
      "20/20 [==============================] - 0s 9ms/step - loss: 0.2499 - Accuracy: 0.5136\n",
      "Epoch 4/200\n",
      "20/20 [==============================] - 0s 9ms/step - loss: 0.2499 - Accuracy: 0.5136\n",
      "Epoch 5/200\n",
      "20/20 [==============================] - 0s 8ms/step - loss: 0.2499 - Accuracy: 0.5136\n",
      "Epoch 6/200\n",
      "20/20 [==============================] - 0s 9ms/step - loss: 0.2499 - Accuracy: 0.5136\n",
      "Epoch 7/200\n",
      "20/20 [==============================] - 0s 9ms/step - loss: 0.2498 - Accuracy: 0.5136\n",
      "Epoch 8/200\n",
      "20/20 [==============================] - 0s 10ms/step - loss: 0.2499 - Accuracy: 0.5136\n",
      "Epoch 9/200\n",
      "20/20 [==============================] - 0s 9ms/step - loss: 0.2500 - Accuracy: 0.5136\n",
      "Epoch 10/200\n",
      "20/20 [==============================] - 0s 9ms/step - loss: 0.2499 - Accuracy: 0.5136\n",
      "Epoch 11/200\n",
      "20/20 [==============================] - 0s 9ms/step - loss: 0.2498 - Accuracy: 0.5136\n",
      "Epoch 12/200\n",
      "20/20 [==============================] - 0s 9ms/step - loss: 0.2498 - Accuracy: 0.5136\n",
      "Epoch 13/200\n",
      "20/20 [==============================] - 0s 9ms/step - loss: 0.2499 - Accuracy: 0.5136\n",
      "Epoch 14/200\n",
      "20/20 [==============================] - 0s 8ms/step - loss: 0.2498 - Accuracy: 0.5136\n",
      "Epoch 15/200\n",
      "20/20 [==============================] - 0s 8ms/step - loss: 0.2498 - Accuracy: 0.5136\n",
      "Epoch 16/200\n",
      "20/20 [==============================] - 0s 9ms/step - loss: 0.2499 - Accuracy: 0.5136\n",
      "Epoch 17/200\n",
      "20/20 [==============================] - 0s 9ms/step - loss: 0.2500 - Accuracy: 0.5136\n",
      "Epoch 17: early stopping\n"
     ]
    },
    {
     "data": {
      "text/plain": [
       "<keras.callbacks.History at 0x1435fb025b0>"
      ]
     },
     "execution_count": 40,
     "metadata": {},
     "output_type": "execute_result"
    }
   ],
   "source": [
    "model.fit(x_train,y_train,epochs=200,callbacks=[early_stopping])"
   ]
  },
  {
   "cell_type": "code",
   "execution_count": 41,
   "id": "1f22fa67",
   "metadata": {},
   "outputs": [
    {
     "name": "stdout",
     "output_type": "stream",
     "text": [
      "20/20 [==============================] - 1s 5ms/step - loss: 0.2498 - Accuracy: 0.5136\n"
     ]
    },
    {
     "data": {
      "text/plain": [
       "[0.24983273446559906, 0.5135999917984009]"
      ]
     },
     "execution_count": 41,
     "metadata": {},
     "output_type": "execute_result"
    }
   ],
   "source": [
    "model.evaluate(x_train,y_train)"
   ]
  },
  {
   "cell_type": "code",
   "execution_count": 42,
   "id": "11c4ff4f",
   "metadata": {},
   "outputs": [
    {
     "name": "stdout",
     "output_type": "stream",
     "text": [
      "5/5 [==============================] - 0s 4ms/step - loss: 0.2505 - Accuracy: 0.4777\n"
     ]
    }
   ],
   "source": [
    "evaluate=model.evaluate(x_test,y_test)"
   ]
  },
  {
   "cell_type": "code",
   "execution_count": 43,
   "id": "2228e618",
   "metadata": {},
   "outputs": [
    {
     "name": "stdout",
     "output_type": "stream",
     "text": [
      "5/5 [==============================] - 1s 4ms/step\n"
     ]
    },
    {
     "data": {
      "text/plain": [
       "array([[0.50925785],\n",
       "       [0.5092181 ],\n",
       "       [0.5092302 ],\n",
       "       [0.5092281 ],\n",
       "       [0.5092289 ],\n",
       "       [0.509241  ],\n",
       "       [0.5092574 ],\n",
       "       [0.5092234 ],\n",
       "       [0.5092364 ],\n",
       "       [0.5092769 ],\n",
       "       [0.5092196 ],\n",
       "       [0.509273  ],\n",
       "       [0.50927275],\n",
       "       [0.5092187 ],\n",
       "       [0.5092273 ],\n",
       "       [0.5092472 ],\n",
       "       [0.50926596],\n",
       "       [0.5092342 ],\n",
       "       [0.50924456],\n",
       "       [0.5092221 ],\n",
       "       [0.50923485],\n",
       "       [0.509229  ],\n",
       "       [0.50923413],\n",
       "       [0.5092612 ],\n",
       "       [0.5092193 ],\n",
       "       [0.50927556],\n",
       "       [0.5092738 ],\n",
       "       [0.5092273 ],\n",
       "       [0.50927323],\n",
       "       [0.5092346 ],\n",
       "       [0.50922096],\n",
       "       [0.50925094],\n",
       "       [0.5092632 ],\n",
       "       [0.5092266 ],\n",
       "       [0.50923467],\n",
       "       [0.5092258 ],\n",
       "       [0.50923246],\n",
       "       [0.5092784 ],\n",
       "       [0.50924134],\n",
       "       [0.5092239 ],\n",
       "       [0.50921935],\n",
       "       [0.5092582 ],\n",
       "       [0.50927484],\n",
       "       [0.50922835],\n",
       "       [0.50921565],\n",
       "       [0.5092391 ],\n",
       "       [0.509241  ],\n",
       "       [0.5092325 ],\n",
       "       [0.5092336 ],\n",
       "       [0.50927085],\n",
       "       [0.5092349 ],\n",
       "       [0.5092344 ],\n",
       "       [0.509219  ],\n",
       "       [0.50924855],\n",
       "       [0.509222  ],\n",
       "       [0.50927484],\n",
       "       [0.50927806],\n",
       "       [0.5092497 ],\n",
       "       [0.50922877],\n",
       "       [0.5092653 ],\n",
       "       [0.50923556],\n",
       "       [0.50924844],\n",
       "       [0.5092219 ],\n",
       "       [0.5092334 ],\n",
       "       [0.5092201 ],\n",
       "       [0.5092228 ],\n",
       "       [0.50923806],\n",
       "       [0.5092301 ],\n",
       "       [0.5092275 ],\n",
       "       [0.50922465],\n",
       "       [0.5092507 ],\n",
       "       [0.50922704],\n",
       "       [0.5092358 ],\n",
       "       [0.5092279 ],\n",
       "       [0.5092289 ],\n",
       "       [0.5092291 ],\n",
       "       [0.50923145],\n",
       "       [0.50924236],\n",
       "       [0.50923073],\n",
       "       [0.50923765],\n",
       "       [0.5092399 ],\n",
       "       [0.5092575 ],\n",
       "       [0.5092497 ],\n",
       "       [0.5092181 ],\n",
       "       [0.50922394],\n",
       "       [0.50921637],\n",
       "       [0.50922626],\n",
       "       [0.5092282 ],\n",
       "       [0.50924236],\n",
       "       [0.50922227],\n",
       "       [0.50921834],\n",
       "       [0.50923735],\n",
       "       [0.5092138 ],\n",
       "       [0.50923496],\n",
       "       [0.5092307 ],\n",
       "       [0.50925875],\n",
       "       [0.5092351 ],\n",
       "       [0.5092204 ],\n",
       "       [0.5092372 ],\n",
       "       [0.50923353],\n",
       "       [0.50921994],\n",
       "       [0.5092665 ],\n",
       "       [0.50921607],\n",
       "       [0.50922394],\n",
       "       [0.5092351 ],\n",
       "       [0.50922835],\n",
       "       [0.5092265 ],\n",
       "       [0.5092597 ],\n",
       "       [0.5092239 ],\n",
       "       [0.5092339 ],\n",
       "       [0.5092775 ],\n",
       "       [0.50921685],\n",
       "       [0.5092425 ],\n",
       "       [0.5092514 ],\n",
       "       [0.5092302 ],\n",
       "       [0.50923914],\n",
       "       [0.50922924],\n",
       "       [0.5092553 ],\n",
       "       [0.50921696],\n",
       "       [0.50923294],\n",
       "       [0.5092274 ],\n",
       "       [0.50922716],\n",
       "       [0.5092302 ],\n",
       "       [0.5092288 ],\n",
       "       [0.5092182 ],\n",
       "       [0.509255  ],\n",
       "       [0.50923467],\n",
       "       [0.5092183 ],\n",
       "       [0.5092341 ],\n",
       "       [0.5092487 ],\n",
       "       [0.50927585],\n",
       "       [0.5092335 ],\n",
       "       [0.50921977],\n",
       "       [0.5092696 ],\n",
       "       [0.5092273 ],\n",
       "       [0.5092266 ],\n",
       "       [0.5092316 ],\n",
       "       [0.5092421 ],\n",
       "       [0.5092358 ],\n",
       "       [0.50922984],\n",
       "       [0.5092364 ],\n",
       "       [0.5092182 ],\n",
       "       [0.5092729 ],\n",
       "       [0.50924903],\n",
       "       [0.5092295 ],\n",
       "       [0.5092721 ],\n",
       "       [0.50924796],\n",
       "       [0.5092264 ],\n",
       "       [0.50925994],\n",
       "       [0.5092396 ],\n",
       "       [0.50922674],\n",
       "       [0.5092333 ],\n",
       "       [0.50922096],\n",
       "       [0.5092297 ],\n",
       "       [0.5092295 ],\n",
       "       [0.50923055],\n",
       "       [0.5092218 ]], dtype=float32)"
      ]
     },
     "execution_count": 43,
     "metadata": {},
     "output_type": "execute_result"
    }
   ],
   "source": [
    "y_predicted = model.predict(x_test)\n",
    "y_predicted"
   ]
  },
  {
   "cell_type": "code",
   "execution_count": 44,
   "id": "2525a496",
   "metadata": {},
   "outputs": [
    {
     "data": {
      "text/plain": [
       "[0,\n",
       " 0,\n",
       " 0,\n",
       " 0,\n",
       " 0,\n",
       " 0,\n",
       " 0,\n",
       " 0,\n",
       " 0,\n",
       " 0,\n",
       " 0,\n",
       " 0,\n",
       " 0,\n",
       " 0,\n",
       " 0,\n",
       " 0,\n",
       " 0,\n",
       " 0,\n",
       " 0,\n",
       " 0,\n",
       " 0,\n",
       " 0,\n",
       " 0,\n",
       " 0,\n",
       " 0,\n",
       " 0,\n",
       " 0,\n",
       " 0,\n",
       " 0,\n",
       " 0,\n",
       " 0,\n",
       " 0,\n",
       " 0,\n",
       " 0,\n",
       " 0,\n",
       " 0,\n",
       " 0,\n",
       " 0,\n",
       " 0,\n",
       " 0,\n",
       " 0,\n",
       " 0,\n",
       " 0,\n",
       " 0,\n",
       " 0,\n",
       " 0,\n",
       " 0,\n",
       " 0,\n",
       " 0,\n",
       " 0,\n",
       " 0,\n",
       " 0,\n",
       " 0,\n",
       " 0,\n",
       " 0,\n",
       " 0,\n",
       " 0,\n",
       " 0,\n",
       " 0,\n",
       " 0,\n",
       " 0,\n",
       " 0,\n",
       " 0,\n",
       " 0,\n",
       " 0,\n",
       " 0,\n",
       " 0,\n",
       " 0,\n",
       " 0,\n",
       " 0,\n",
       " 0,\n",
       " 0,\n",
       " 0,\n",
       " 0,\n",
       " 0,\n",
       " 0,\n",
       " 0,\n",
       " 0,\n",
       " 0,\n",
       " 0,\n",
       " 0,\n",
       " 0,\n",
       " 0,\n",
       " 0,\n",
       " 0,\n",
       " 0,\n",
       " 0,\n",
       " 0,\n",
       " 0,\n",
       " 0,\n",
       " 0,\n",
       " 0,\n",
       " 0,\n",
       " 0,\n",
       " 0,\n",
       " 0,\n",
       " 0,\n",
       " 0,\n",
       " 0,\n",
       " 0,\n",
       " 0,\n",
       " 0,\n",
       " 0,\n",
       " 0,\n",
       " 0,\n",
       " 0,\n",
       " 0,\n",
       " 0,\n",
       " 0,\n",
       " 0,\n",
       " 0,\n",
       " 0,\n",
       " 0,\n",
       " 0,\n",
       " 0,\n",
       " 0,\n",
       " 0,\n",
       " 0,\n",
       " 0,\n",
       " 0,\n",
       " 0,\n",
       " 0,\n",
       " 0,\n",
       " 0,\n",
       " 0,\n",
       " 0,\n",
       " 0,\n",
       " 0,\n",
       " 0,\n",
       " 0,\n",
       " 0,\n",
       " 0,\n",
       " 0,\n",
       " 0,\n",
       " 0,\n",
       " 0,\n",
       " 0,\n",
       " 0,\n",
       " 0,\n",
       " 0,\n",
       " 0,\n",
       " 0,\n",
       " 0,\n",
       " 0,\n",
       " 0,\n",
       " 0,\n",
       " 0,\n",
       " 0,\n",
       " 0,\n",
       " 0,\n",
       " 0,\n",
       " 0,\n",
       " 0,\n",
       " 0,\n",
       " 0,\n",
       " 0,\n",
       " 0]"
      ]
     },
     "execution_count": 44,
     "metadata": {},
     "output_type": "execute_result"
    }
   ],
   "source": [
    "y_predicted_labels = [np.argmax(i) for i in y_predicted]\n",
    "y_predicted_labels "
   ]
  },
  {
   "cell_type": "code",
   "execution_count": 45,
   "id": "0aac9ae6",
   "metadata": {},
   "outputs": [
    {
     "data": {
      "text/plain": [
       "Text(91.68, 0.5, 'Predicted')"
      ]
     },
     "execution_count": 45,
     "metadata": {},
     "output_type": "execute_result"
    },
    {
     "data": {
      "image/png": "[encoded data removed]",
      "text/plain": [
       "<Figure size 432x288 with 1 Axes>"
      ]
     },
     "metadata": {
      "needs_background": "light"
     },
     "output_type": "display_data"
    }
   ],
   "source": [
    "cl = confusion_matrix(y_test,y_predicted_labels) \n",
    "sns.heatmap(cl, square=True, annot=True, cbar=False,  cmap=\"YlGnBu\" ,fmt='g')\n",
    "plt.xlabel('Truth')\n",
    "plt.ylabel('Predicted')"
   ]
  },
  {
   "cell_type": "code",
   "execution_count": 46,
   "id": "013c7bf5",
   "metadata": {},
   "outputs": [
    {
     "name": "stdout",
     "output_type": "stream",
     "text": [
      "              precision    recall  f1-score   support\n",
      "\n",
      "           0       0.52      1.00      0.69        82\n",
      "           1       0.00      0.00      0.00        75\n",
      "\n",
      "    accuracy                           0.52       157\n",
      "   macro avg       0.26      0.50      0.34       157\n",
      "weighted avg       0.27      0.52      0.36       157\n",
      "\n"
     ]
    },
    {
     "name": "stderr",
     "output_type": "stream",
     "text": [
      "C:\\Users\\riyag\\Anaconda3\\lib\\site-packages\\sklearn\\metrics\\_classification.py:1318: UndefinedMetricWarning: Precision and F-score are ill-defined and being set to 0.0 in labels with no predicted samples. Use `zero_division` parameter to control this behavior.\n",
      "  _warn_prf(average, modifier, msg_start, len(result))\n",
      "C:\\Users\\riyag\\Anaconda3\\lib\\site-packages\\sklearn\\metrics\\_classification.py:1318: UndefinedMetricWarning: Precision and F-score are ill-defined and being set to 0.0 in labels with no predicted samples. Use `zero_division` parameter to control this behavior.\n",
      "  _warn_prf(average, modifier, msg_start, len(result))\n",
      "C:\\Users\\riyag\\Anaconda3\\lib\\site-packages\\sklearn\\metrics\\_classification.py:1318: UndefinedMetricWarning: Precision and F-score are ill-defined and being set to 0.0 in labels with no predicted samples. Use `zero_division` parameter to control this behavior.\n",
      "  _warn_prf(average, modifier, msg_start, len(result))\n"
     ]
    }
   ],
   "source": [
    "print(classification_report(y_test,y_predicted_labels))"
   ]
  },
  {
   "cell_type": "code",
   "execution_count": 47,
   "id": "d59eefa7",
   "metadata": {},
   "outputs": [
    {
     "data": {
      "image/png": "[encoded data removed]",
      "text/plain": [
       "<Figure size 720x432 with 1 Axes>"
      ]
     },
     "metadata": {
      "needs_background": "light"
     },
     "output_type": "display_data"
    }
   ],
   "source": [
    "plt.figure(figsize=(10,6))\n",
    "plt.plot(y_test, color='pink', label='Actual Stock Price')\n",
    "plt.plot(y_predicted_labels, color='yellow', label='Predicted Stock Price')\n",
    "plt.title('Actual Value vs Predicted')\n",
    "plt.xlabel('Date')\n",
    "plt.ylabel('Predicted Price')\n",
    "plt.legend()\n",
    "plt.show()"
   ]
  },
  {
   "cell_type": "markdown",
   "id": "104767a3",
   "metadata": {},
   "source": [
    "# LDA"
   ]
  },
  {
   "cell_type": "code",
   "execution_count": 48,
   "id": "7c5c545b",
   "metadata": {},
   "outputs": [],
   "source": [
    "from sklearn.discriminant_analysis import LinearDiscriminantAnalysis as LDA\n",
    "\n",
    "lda = LDA()\n",
    "x_train = lda.fit_transform(x_train, y_train)\n",
    "x_test= lda.transform(x_test)"
   ]
  },
  {
   "cell_type": "markdown",
   "id": "51ae80cf",
   "metadata": {},
   "source": [
    "# Model"
   ]
  },
  {
   "cell_type": "markdown",
   "id": "a42d98c9",
   "metadata": {},
   "source": [
    "# Logistic Regression"
   ]
  },
  {
   "cell_type": "code",
   "execution_count": 49,
   "id": "8dfb8145",
   "metadata": {},
   "outputs": [
    {
     "name": "stdout",
     "output_type": "stream",
     "text": [
      "Test Accuracy =  95.0\n",
      "Train Accuracy =  98.0\n",
      "              precision    recall  f1-score   support\n",
      "\n",
      "           0       0.97      0.93      0.95        82\n",
      "           1       0.92      0.97      0.95        75\n",
      "\n",
      "    accuracy                           0.95       157\n",
      "   macro avg       0.95      0.95      0.95       157\n",
      "weighted avg       0.95      0.95      0.95       157\n",
      "\n"
     ]
    },
    {
     "data": {
      "image/png": "[encoded data removed]",
      "text/plain": [
       "<Figure size 432x288 with 1 Axes>"
      ]
     },
     "metadata": {
      "needs_background": "light"
     },
     "output_type": "display_data"
    }
   ],
   "source": [
    "from sklearn.linear_model import LogisticRegression\n",
    "from sklearn.metrics import accuracy_score\n",
    "from sklearn.metrics import classification_report,confusion_matrix\n",
    "clf_0 = LogisticRegression().fit(x_train, y_train)\n",
    "\n",
    "pred_y_0 = clf_0.predict(x_test)\n",
    "\n",
    "print( \"Test Accuracy = \" ,accuracy_score(pred_y_0, y_test).round(2) * 100)\n",
    "print( \"Train Accuracy = \" ,accuracy_score(clf_0.predict(x_train), y_train).round(2) * 100)\n",
    "\n",
    "cl = confusion_matrix(y_test,pred_y_0) \n",
    "sns.heatmap(cl, square=True, annot=True, cbar=False,  cmap=\"YlGnBu\" ,fmt='g')\n",
    "plt.xlabel('Truth')\n",
    "plt.ylabel('Predicted')\n",
    "\n",
    "print(classification_report(y_test, pred_y_0))"
   ]
  },
  {
   "cell_type": "code",
   "execution_count": 50,
   "id": "32624090",
   "metadata": {},
   "outputs": [
    {
     "name": "stdout",
     "output_type": "stream",
     "text": [
      "Cross Validation Scores:  [0.976 0.984 0.976 0.968 0.992]\n",
      "Average CV Score:  0.9792\n",
      "Number of CV Scores used in Average:  5\n"
     ]
    }
   ],
   "source": [
    "from sklearn.model_selection import cross_val_score\n",
    "\n",
    "scores = cross_val_score(clf_0, x_train, y_train, cv = 5,scoring='accuracy')\n",
    "\n",
    "print(\"Cross Validation Scores: \", scores)\n",
    "print(\"Average CV Score: \", scores.mean())\n",
    "print(\"Number of CV Scores used in Average: \", len(scores))"
   ]
  },
  {
   "cell_type": "markdown",
   "id": "0ce35e1c",
   "metadata": {},
   "source": [
    "# Decision Tree"
   ]
  },
  {
   "cell_type": "code",
   "execution_count": 51,
   "id": "e9756722",
   "metadata": {},
   "outputs": [
    {
     "name": "stdout",
     "output_type": "stream",
     "text": [
      "              precision    recall  f1-score   support\n",
      "\n",
      "           0       0.97      0.93      0.95        82\n",
      "           1       0.92      0.97      0.95        75\n",
      "\n",
      "    accuracy                           0.95       157\n",
      "   macro avg       0.95      0.95      0.95       157\n",
      "weighted avg       0.95      0.95      0.95       157\n",
      "\n",
      "Test Accuracy =  95.0\n",
      "Train Accuracy =  100.0\n"
     ]
    },
    {
     "data": {
      "image/png": "[encoded data removed]",
      "text/plain": [
       "<Figure size 432x288 with 1 Axes>"
      ]
     },
     "metadata": {
      "needs_background": "light"
     },
     "output_type": "display_data"
    }
   ],
   "source": [
    "from sklearn.tree import DecisionTreeClassifier\n",
    "\n",
    "DT = DecisionTreeClassifier()\n",
    "DT.fit(x_train, y_train)\n",
    "\n",
    "y_predict = DT.predict(x_test)\n",
    "\n",
    "cd = confusion_matrix(y_test,y_predict)\n",
    "sns.heatmap(cd, square=True, annot=True, cbar=False,  cmap=\"YlGnBu\" ,fmt='g')\n",
    "plt.xlabel('Truth')\n",
    "plt.ylabel('Predicted')\n",
    "\n",
    "#  prediction Summary by species\n",
    "print(classification_report(y_test, y_predict))\n",
    "\n",
    "# Accuracy score\n",
    "\n",
    "print( \"Test Accuracy = \" ,accuracy_score(y_predict, y_test).round(2) * 100)\n",
    "print( \"Train Accuracy = \" ,accuracy_score(DT.predict(x_train), y_train).round(2) * 100)"
   ]
  },
  {
   "cell_type": "code",
   "execution_count": 52,
   "id": "a015a74f",
   "metadata": {},
   "outputs": [
    {
     "name": "stdout",
     "output_type": "stream",
     "text": [
      "Cross Validation Scores:  [0.952 0.96  0.96  0.952 1.   ]\n",
      "Average CV Score:  0.9648\n",
      "Number of CV Scores used in Average:  5\n"
     ]
    }
   ],
   "source": [
    "from sklearn.model_selection import cross_val_score\n",
    "\n",
    "scores = cross_val_score(DT, x_train, y_train, cv = 5,scoring='accuracy')\n",
    "\n",
    "print(\"Cross Validation Scores: \", scores)\n",
    "print(\"Average CV Score: \", scores.mean())\n",
    "print(\"Number of CV Scores used in Average: \", len(scores))"
   ]
  },
  {
   "cell_type": "markdown",
   "id": "db03b9b9",
   "metadata": {},
   "source": [
    "# KNN"
   ]
  },
  {
   "cell_type": "code",
   "execution_count": 53,
   "id": "873c0ae1",
   "metadata": {},
   "outputs": [
    {
     "name": "stdout",
     "output_type": "stream",
     "text": [
      "              precision    recall  f1-score   support\n",
      "\n",
      "           0       0.97      0.93      0.95        82\n",
      "           1       0.92      0.97      0.95        75\n",
      "\n",
      "    accuracy                           0.95       157\n",
      "   macro avg       0.95      0.95      0.95       157\n",
      "weighted avg       0.95      0.95      0.95       157\n",
      "\n",
      "Test Accuracy =  95.0\n"
     ]
    },
    {
     "data": {
      "image/png": "[encoded data removed]",
      "text/plain": [
       "<Figure size 432x288 with 1 Axes>"
      ]
     },
     "metadata": {
      "needs_background": "light"
     },
     "output_type": "display_data"
    }
   ],
   "source": [
    "from sklearn.neighbors import KNeighborsClassifier\n",
    "from sklearn.metrics import accuracy_score\n",
    "knn = KNeighborsClassifier()   # initial value\n",
    "knn.fit(x_train,y_train)\n",
    "pred = knn.predict(x_test)\n",
    "\n",
    "from sklearn.metrics import classification_report,confusion_matrix\n",
    "cm = confusion_matrix(y_test,pred)\n",
    "sns.heatmap(cm, square=True, annot=True, cbar=False,  cmap=\"YlGnBu\" ,fmt='g')\n",
    "plt.xlabel('Truth')\n",
    "plt.ylabel('Predicted')\n",
    "print(classification_report(y_test,pred))\n",
    "print( \"Test Accuracy = \" ,accuracy_score(pred, y_test).round(2) * 100)"
   ]
  },
  {
   "cell_type": "code",
   "execution_count": 54,
   "id": "4de24787",
   "metadata": {},
   "outputs": [
    {
     "data": {
      "text/plain": [
       "Text(0, 0.5, 'Error Rate')"
      ]
     },
     "execution_count": 54,
     "metadata": {},
     "output_type": "execute_result"
    },
    {
     "data": {
      "image/png": "[encoded data removed]",
      "text/plain": [
       "<Figure size 720x432 with 1 Axes>"
      ]
     },
     "metadata": {
      "needs_background": "light"
     },
     "output_type": "display_data"
    }
   ],
   "source": [
    "error_rate = []\n",
    "\n",
    "for i in range(1,25):\n",
    "    \n",
    "    knn = KNeighborsClassifier(n_neighbors=i)\n",
    "    knn.fit(x_train,y_train)\n",
    "    pred_i = knn.predict(x_test)\n",
    "    error_rate.append(np.mean(pred_i != y_test))\n",
    "    \n",
    "plt.figure(figsize=(10,6))\n",
    "plt.plot(range(1,25),error_rate,color='blue', linestyle='dashed', marker='o',\n",
    "         markerfacecolor='red', markersize=10)\n",
    "plt.title('Error Rate vs. K Value')\n",
    "plt.xlabel('K')\n",
    "plt.ylabel('Error Rate')"
   ]
  },
  {
   "cell_type": "code",
   "execution_count": 55,
   "id": "3e4cdcad",
   "metadata": {},
   "outputs": [
    {
     "name": "stdout",
     "output_type": "stream",
     "text": [
      "              precision    recall  f1-score   support\n",
      "\n",
      "           0       0.97      0.94      0.96        82\n",
      "           1       0.94      0.97      0.95        75\n",
      "\n",
      "    accuracy                           0.96       157\n",
      "   macro avg       0.96      0.96      0.96       157\n",
      "weighted avg       0.96      0.96      0.96       157\n",
      "\n",
      "TestAccuracy =  96.0\n",
      "Train Accuracy =  98.0\n"
     ]
    },
    {
     "data": {
      "image/png": "[encoded data removed]",
      "text/plain": [
       "<Figure size 432x288 with 1 Axes>"
      ]
     },
     "metadata": {
      "needs_background": "light"
     },
     "output_type": "display_data"
    }
   ],
   "source": [
    "from sklearn.neighbors import KNeighborsClassifier\n",
    "from sklearn.metrics import accuracy_score\n",
    "knn = KNeighborsClassifier(n_neighbors=4)\n",
    "knn.fit(x_train,y_train)\n",
    "pred = knn.predict(x_test)\n",
    "\n",
    "from sklearn.metrics import classification_report,confusion_matrix\n",
    "cm = confusion_matrix(y_test,pred)\n",
    "sns.heatmap(cm, square=True, annot=True, cbar=False,  cmap=\"YlGnBu\" ,fmt='g')\n",
    "plt.xlabel('Truth')\n",
    "plt.ylabel('Predicted')\n",
    "print(classification_report(y_test,pred))\n",
    "print( \"TestAccuracy = \" ,accuracy_score(pred, y_test).round(2) * 100)\n",
    "print(\"Train Accuracy = \",accuracy_score(knn.predict(x_train), y_train).round(2) * 100)"
   ]
  },
  {
   "cell_type": "code",
   "execution_count": 56,
   "id": "52aacea4",
   "metadata": {},
   "outputs": [
    {
     "name": "stdout",
     "output_type": "stream",
     "text": [
      "Cross Validation Scores:  [0.976 0.984 0.976 0.976 1.   ]\n",
      "Average CV Score:  0.9823999999999999\n",
      "Number of CV Scores used in Average:  5\n"
     ]
    }
   ],
   "source": [
    "from sklearn.model_selection import cross_val_score\n",
    "\n",
    "scores = cross_val_score(knn, x_train, y_train, cv = 5,scoring='accuracy')\n",
    "\n",
    "print(\"Cross Validation Scores: \", scores)\n",
    "print(\"Average CV Score: \", scores.mean())\n",
    "print(\"Number of CV Scores used in Average: \", len(scores))"
   ]
  },
  {
   "cell_type": "markdown",
   "id": "d0f4840f",
   "metadata": {},
   "source": [
    "# SVM"
   ]
  },
  {
   "cell_type": "code",
   "execution_count": 57,
   "id": "ecf8980c",
   "metadata": {},
   "outputs": [
    {
     "name": "stdout",
     "output_type": "stream",
     "text": [
      "Test Accuracy =  94.0\n",
      "Train Accuracy =  98.0\n",
      "              precision    recall  f1-score   support\n",
      "\n",
      "           0       0.97      0.91      0.94        82\n",
      "           1       0.91      0.97      0.94        75\n",
      "\n",
      "    accuracy                           0.94       157\n",
      "   macro avg       0.94      0.94      0.94       157\n",
      "weighted avg       0.94      0.94      0.94       157\n",
      "\n"
     ]
    },
    {
     "data": {
      "image/png": "[encoded data removed]",
      "text/plain": [
       "<Figure size 432x288 with 1 Axes>"
      ]
     },
     "metadata": {
      "needs_background": "light"
     },
     "output_type": "display_data"
    }
   ],
   "source": [
    "from sklearn import svm\n",
    "clf=svm.SVC()\n",
    "clf.fit(x_train,y_train)\n",
    "y_predict_a = clf.predict(x_test)\n",
    "\n",
    "print( \"Test Accuracy = \" ,accuracy_score(y_predict_a, y_test).round(2) * 100)\n",
    "print( \"Train Accuracy = \" ,accuracy_score(clf.predict(x_train), y_train).round(2) * 100)\n",
    "\n",
    "cl = confusion_matrix(y_test,y_predict_a) \n",
    "sns.heatmap(cl, square=True, annot=True, cbar=False,  cmap=\"YlGnBu\" ,fmt='g')\n",
    "plt.xlabel('Truth')\n",
    "plt.ylabel('Predicted')\n",
    "\n",
    "print(classification_report(y_test,y_predict_a))"
   ]
  },
  {
   "cell_type": "code",
   "execution_count": 58,
   "id": "41081447",
   "metadata": {},
   "outputs": [
    {
     "name": "stdout",
     "output_type": "stream",
     "text": [
      "Cross Validation Scores:  [0.968 0.984 0.976 0.976 0.992]\n",
      "Average CV Score:  0.9792\n",
      "Number of CV Scores used in Average:  5\n"
     ]
    }
   ],
   "source": [
    "from sklearn.model_selection import cross_val_score\n",
    "\n",
    "scores = cross_val_score(clf, x_train, y_train, cv = 5,scoring='accuracy')\n",
    "\n",
    "print(\"Cross Validation Scores: \", scores)\n",
    "print(\"Average CV Score: \", scores.mean())\n",
    "print(\"Number of CV Scores used in Average: \", len(scores))"
   ]
  },
  {
   "cell_type": "markdown",
   "id": "6008c50c",
   "metadata": {},
   "source": [
    "# Gradient boost"
   ]
  },
  {
   "cell_type": "code",
   "execution_count": 59,
   "id": "ec54846a",
   "metadata": {},
   "outputs": [
    {
     "name": "stdout",
     "output_type": "stream",
     "text": [
      "Test Accuracy =  95.0\n",
      "Train Accuracy =  100.0\n",
      "              precision    recall  f1-score   support\n",
      "\n",
      "           0       0.97      0.93      0.95        82\n",
      "           1       0.92      0.97      0.95        75\n",
      "\n",
      "    accuracy                           0.95       157\n",
      "   macro avg       0.95      0.95      0.95       157\n",
      "weighted avg       0.95      0.95      0.95       157\n",
      "\n"
     ]
    },
    {
     "data": {
      "image/png": "[encoded data removed]",
      "text/plain": [
       "<Figure size 432x288 with 1 Axes>"
      ]
     },
     "metadata": {
      "needs_background": "light"
     },
     "output_type": "display_data"
    }
   ],
   "source": [
    "from sklearn.ensemble import GradientBoostingClassifier\n",
    "gb=GradientBoostingClassifier()\n",
    "gb.fit(x_train,y_train)\n",
    "y_predict_a = gb.predict(x_test)\n",
    "\n",
    "print( \"Test Accuracy = \" ,accuracy_score(y_predict_a, y_test).round(2) * 100)\n",
    "print( \"Train Accuracy = \" ,accuracy_score(gb.predict(x_train), y_train).round(2) * 100)\n",
    "\n",
    "cl = confusion_matrix(y_test,y_predict_a) \n",
    "sns.heatmap(cl, square=True, annot=True, cbar=False,  cmap=\"YlGnBu\" ,fmt='g')\n",
    "plt.xlabel('Truth')\n",
    "plt.ylabel('Predicted')\n",
    "\n",
    "print(classification_report(y_test,y_predict_a))"
   ]
  },
  {
   "cell_type": "code",
   "execution_count": 60,
   "id": "97c45ade",
   "metadata": {},
   "outputs": [
    {
     "name": "stdout",
     "output_type": "stream",
     "text": [
      "Cross Validation Scores:  [0.952 0.96  0.96  0.952 1.   ]\n",
      "Average CV Score:  0.9648\n",
      "Number of CV Scores used in Average:  5\n"
     ]
    }
   ],
   "source": [
    "from sklearn.model_selection import cross_val_score\n",
    "\n",
    "scores = cross_val_score(gb, x_train, y_train, cv = 5,scoring='accuracy')\n",
    "\n",
    "print(\"Cross Validation Scores: \", scores)\n",
    "print(\"Average CV Score: \", scores.mean())\n",
    "print(\"Number of CV Scores used in Average: \", len(scores))"
   ]
  },
  {
   "cell_type": "markdown",
   "id": "1dbf5e42",
   "metadata": {},
   "source": [
    "# Naive Bayes"
   ]
  },
  {
   "cell_type": "code",
   "execution_count": 61,
   "id": "b090ffc8",
   "metadata": {},
   "outputs": [
    {
     "name": "stdout",
     "output_type": "stream",
     "text": [
      "Test Accuracy =  94.0\n",
      "Train Accuracy =  98.0\n",
      "              precision    recall  f1-score   support\n",
      "\n",
      "           0       0.97      0.91      0.94        82\n",
      "           1       0.91      0.97      0.94        75\n",
      "\n",
      "    accuracy                           0.94       157\n",
      "   macro avg       0.94      0.94      0.94       157\n",
      "weighted avg       0.94      0.94      0.94       157\n",
      "\n"
     ]
    },
    {
     "data": {
      "image/png": "[encoded data removed]",
      "text/plain": [
       "<Figure size 432x288 with 1 Axes>"
      ]
     },
     "metadata": {
      "needs_background": "light"
     },
     "output_type": "display_data"
    }
   ],
   "source": [
    "from sklearn.naive_bayes import GaussianNB\n",
    "nb=GaussianNB()\n",
    "nb.fit(x_train,y_train)\n",
    "y_predict_a = nb.predict(x_test)\n",
    "\n",
    "print( \"Test Accuracy = \" ,accuracy_score(y_predict_a, y_test).round(2) * 100)\n",
    "print( \"Train Accuracy = \" ,accuracy_score(nb.predict(x_train), y_train).round(2) * 100)\n",
    "\n",
    "cl = confusion_matrix(y_test,y_predict_a) \n",
    "sns.heatmap(cl, square=True, annot=True, cbar=False,  cmap=\"YlGnBu\" ,fmt='g')\n",
    "plt.xlabel('Truth')\n",
    "plt.ylabel('Predicted')\n",
    "\n",
    "print(classification_report(y_test,y_predict_a))"
   ]
  },
  {
   "cell_type": "code",
   "execution_count": 62,
   "id": "c976400a",
   "metadata": {},
   "outputs": [
    {
     "name": "stdout",
     "output_type": "stream",
     "text": [
      "Cross Validation Scores:  [0.976 0.984 0.976 0.968 0.992]\n",
      "Average CV Score:  0.9792\n",
      "Number of CV Scores used in Average:  5\n"
     ]
    }
   ],
   "source": [
    "from sklearn.model_selection import cross_val_score\n",
    "\n",
    "scores = cross_val_score(nb, x_train, y_train, cv = 5,scoring='accuracy')\n",
    "\n",
    "print(\"Cross Validation Scores: \", scores)\n",
    "print(\"Average CV Score: \", scores.mean())\n",
    "print(\"Number of CV Scores used in Average: \", len(scores))"
   ]
  },
  {
   "cell_type": "markdown",
   "id": "00119dc6",
   "metadata": {},
   "source": [
    "# Neural network"
   ]
  },
  {
   "cell_type": "code",
   "execution_count": 63,
   "id": "bee58f7b",
   "metadata": {},
   "outputs": [
    {
     "name": "stdout",
     "output_type": "stream",
     "text": [
      "Test Accuracy =  94.0\n",
      "Train Accuracy =  98.0\n",
      "              precision    recall  f1-score   support\n",
      "\n",
      "           0       0.97      0.91      0.94        82\n",
      "           1       0.91      0.97      0.94        75\n",
      "\n",
      "    accuracy                           0.94       157\n",
      "   macro avg       0.94      0.94      0.94       157\n",
      "weighted avg       0.94      0.94      0.94       157\n",
      "\n"
     ]
    },
    {
     "name": "stderr",
     "output_type": "stream",
     "text": [
      "C:\\Users\\riyag\\Anaconda3\\lib\\site-packages\\sklearn\\neural_network\\_multilayer_perceptron.py:692: ConvergenceWarning: Stochastic Optimizer: Maximum iterations (200) reached and the optimization hasn't converged yet.\n",
      "  warnings.warn(\n"
     ]
    },
    {
     "data": {
      "image/png": "[encoded data removed]",
      "text/plain": [
       "<Figure size 432x288 with 1 Axes>"
      ]
     },
     "metadata": {
      "needs_background": "light"
     },
     "output_type": "display_data"
    }
   ],
   "source": [
    "from sklearn.neural_network import MLPClassifier\n",
    "NN=MLPClassifier(activation='relu')\n",
    "NN.fit(x_train,y_train)\n",
    "y_predict_a = NN.predict(x_test)\n",
    "\n",
    "print( \"Test Accuracy = \" ,accuracy_score(y_predict_a, y_test).round(2) * 100)\n",
    "print( \"Train Accuracy = \" ,accuracy_score(NN.predict(x_train), y_train).round(2) * 100)\n",
    "\n",
    "cl = confusion_matrix(y_test,y_predict_a) \n",
    "sns.heatmap(cl, square=True, annot=True, cbar=False,  cmap=\"YlGnBu\" ,fmt='g')\n",
    "plt.xlabel('Truth')\n",
    "plt.ylabel('Predicted')\n",
    "\n",
    "print(classification_report(y_test,y_predict_a))"
   ]
  },
  {
   "cell_type": "code",
   "execution_count": 64,
   "id": "d9dc5ffc",
   "metadata": {},
   "outputs": [
    {
     "name": "stderr",
     "output_type": "stream",
     "text": [
      "C:\\Users\\riyag\\Anaconda3\\lib\\site-packages\\sklearn\\neural_network\\_multilayer_perceptron.py:692: ConvergenceWarning: Stochastic Optimizer: Maximum iterations (200) reached and the optimization hasn't converged yet.\n",
      "  warnings.warn(\n",
      "C:\\Users\\riyag\\Anaconda3\\lib\\site-packages\\sklearn\\neural_network\\_multilayer_perceptron.py:692: ConvergenceWarning: Stochastic Optimizer: Maximum iterations (200) reached and the optimization hasn't converged yet.\n",
      "  warnings.warn(\n",
      "C:\\Users\\riyag\\Anaconda3\\lib\\site-packages\\sklearn\\neural_network\\_multilayer_perceptron.py:692: ConvergenceWarning: Stochastic Optimizer: Maximum iterations (200) reached and the optimization hasn't converged yet.\n",
      "  warnings.warn(\n",
      "C:\\Users\\riyag\\Anaconda3\\lib\\site-packages\\sklearn\\neural_network\\_multilayer_perceptron.py:692: ConvergenceWarning: Stochastic Optimizer: Maximum iterations (200) reached and the optimization hasn't converged yet.\n",
      "  warnings.warn(\n"
     ]
    },
    {
     "name": "stdout",
     "output_type": "stream",
     "text": [
      "Cross Validation Scores:  [0.976 0.976 0.976 0.968 0.992]\n",
      "Average CV Score:  0.9776\n",
      "Number of CV Scores used in Average:  5\n"
     ]
    },
    {
     "name": "stderr",
     "output_type": "stream",
     "text": [
      "C:\\Users\\riyag\\Anaconda3\\lib\\site-packages\\sklearn\\neural_network\\_multilayer_perceptron.py:692: ConvergenceWarning: Stochastic Optimizer: Maximum iterations (200) reached and the optimization hasn't converged yet.\n",
      "  warnings.warn(\n"
     ]
    }
   ],
   "source": [
    "from sklearn.model_selection import cross_val_score\n",
    "\n",
    "scores = cross_val_score(NN, x_train, y_train, cv = 5,scoring='accuracy')\n",
    "\n",
    "print(\"Cross Validation Scores: \", scores)\n",
    "print(\"Average CV Score: \", scores.mean())\n",
    "print(\"Number of CV Scores used in Average: \", len(scores))"
   ]
  },
  {
   "cell_type": "code",
   "execution_count": 65,
   "id": "34c1d712",
   "metadata": {},
   "outputs": [],
   "source": [
    "from tensorflow import keras\n",
    "from keras import optimizers\n",
    "from keras.models import Sequential,Model\n",
    "from keras.layers import Dense,Activation, Dropout,Flatten\n",
    "from tensorflow.keras.optimizers.legacy import Adam,SGD"
   ]
  },
  {
   "cell_type": "code",
   "execution_count": 66,
   "id": "4830a29c",
   "metadata": {},
   "outputs": [
    {
     "name": "stdout",
     "output_type": "stream",
     "text": [
      "Model: \"sequential_1\"\n",
      "_________________________________________________________________\n",
      " Layer (type)                Output Shape              Param #   \n",
      "=================================================================\n",
      " lstm_2 (LSTM)               (None, 1, 8)              320       \n",
      "                                                                 \n",
      " lstm_3 (LSTM)               (None, 4)                 208       \n",
      "                                                                 \n",
      " dense_1 (Dense)             (None, 1)                 5         \n",
      "                                                                 \n",
      "=================================================================\n",
      "Total params: 533\n",
      "Trainable params: 533\n",
      "Non-trainable params: 0\n",
      "_________________________________________________________________\n"
     ]
    }
   ],
   "source": [
    "from keras.layers import LSTM\n",
    "model = Sequential()\n",
    "model.add(LSTM(units=8, return_sequences=True, input_shape =(x_train.shape[1],1), activation='sigmoid'))\n",
    "model.add(LSTM(units=4,activation='sigmoid'))\n",
    "model.add(Dense(1,activation='sigmoid'))\n",
    "\n",
    "model.compile(loss='mean_squared_error', optimizer='adam', metrics=['Accuracy'])\n",
    "\n",
    "model.summary()"
   ]
  },
  {
   "cell_type": "code",
   "execution_count": 67,
   "id": "4a29e759",
   "metadata": {},
   "outputs": [],
   "source": [
    "from keras.callbacks import EarlyStopping\n",
    "early_stopping = EarlyStopping(monitor='loss', mode='min', verbose=1, patience=5)"
   ]
  },
  {
   "cell_type": "code",
   "execution_count": 68,
   "id": "bb09b273",
   "metadata": {},
   "outputs": [
    {
     "name": "stdout",
     "output_type": "stream",
     "text": [
      "Epoch 1/200\n",
      "20/20 [==============================] - 4s 4ms/step - loss: 0.2531 - Accuracy: 0.4864\n",
      "Epoch 2/200\n",
      "20/20 [==============================] - 0s 4ms/step - loss: 0.2521 - Accuracy: 0.4864\n",
      "Epoch 3/200\n",
      "20/20 [==============================] - 0s 4ms/step - loss: 0.2513 - Accuracy: 0.4864\n",
      "Epoch 4/200\n",
      "20/20 [==============================] - 0s 5ms/step - loss: 0.2506 - Accuracy: 0.4864\n",
      "Epoch 5/200\n",
      "20/20 [==============================] - 0s 4ms/step - loss: 0.2499 - Accuracy: 0.4864\n",
      "Epoch 6/200\n",
      "20/20 [==============================] - 0s 5ms/step - loss: 0.2493 - Accuracy: 0.4864\n",
      "Epoch 7/200\n",
      "20/20 [==============================] - 0s 4ms/step - loss: 0.2486 - Accuracy: 0.5088\n",
      "Epoch 8/200\n",
      "20/20 [==============================] - 0s 4ms/step - loss: 0.2479 - Accuracy: 0.7840\n",
      "Epoch 9/200\n",
      "20/20 [==============================] - 0s 4ms/step - loss: 0.2472 - Accuracy: 0.8928\n",
      "Epoch 10/200\n",
      "20/20 [==============================] - 0s 4ms/step - loss: 0.2465 - Accuracy: 0.7760\n",
      "Epoch 11/200\n",
      "20/20 [==============================] - 0s 5ms/step - loss: 0.2456 - Accuracy: 0.7200\n",
      "Epoch 12/200\n",
      "20/20 [==============================] - 0s 5ms/step - loss: 0.2446 - Accuracy: 0.6928\n",
      "Epoch 13/200\n",
      "20/20 [==============================] - 0s 6ms/step - loss: 0.2435 - Accuracy: 0.6752\n",
      "Epoch 14/200\n",
      "20/20 [==============================] - 0s 4ms/step - loss: 0.2423 - Accuracy: 0.7136\n",
      "Epoch 15/200\n",
      "20/20 [==============================] - 0s 4ms/step - loss: 0.2408 - Accuracy: 0.6976\n",
      "Epoch 16/200\n",
      "20/20 [==============================] - 0s 4ms/step - loss: 0.2390 - Accuracy: 0.7232\n",
      "Epoch 17/200\n",
      "20/20 [==============================] - 0s 5ms/step - loss: 0.2371 - Accuracy: 0.7392\n",
      "Epoch 18/200\n",
      "20/20 [==============================] - 0s 4ms/step - loss: 0.2349 - Accuracy: 0.7440\n",
      "Epoch 19/200\n",
      "20/20 [==============================] - 0s 4ms/step - loss: 0.2324 - Accuracy: 0.7824\n",
      "Epoch 20/200\n",
      "20/20 [==============================] - 0s 4ms/step - loss: 0.2296 - Accuracy: 0.8112\n",
      "Epoch 21/200\n",
      "20/20 [==============================] - 0s 4ms/step - loss: 0.2265 - Accuracy: 0.8368\n",
      "Epoch 22/200\n",
      "20/20 [==============================] - 0s 3ms/step - loss: 0.2230 - Accuracy: 0.8576\n",
      "Epoch 23/200\n",
      "20/20 [==============================] - 0s 5ms/step - loss: 0.2191 - Accuracy: 0.8848\n",
      "Epoch 24/200\n",
      "20/20 [==============================] - 0s 4ms/step - loss: 0.2149 - Accuracy: 0.8960\n",
      "Epoch 25/200\n",
      "20/20 [==============================] - 0s 5ms/step - loss: 0.2103 - Accuracy: 0.9056\n",
      "Epoch 26/200\n",
      "20/20 [==============================] - 0s 5ms/step - loss: 0.2054 - Accuracy: 0.9168\n",
      "Epoch 27/200\n",
      "20/20 [==============================] - 0s 4ms/step - loss: 0.2002 - Accuracy: 0.9328\n",
      "Epoch 28/200\n",
      "20/20 [==============================] - 0s 5ms/step - loss: 0.1947 - Accuracy: 0.9456\n",
      "Epoch 29/200\n",
      "20/20 [==============================] - 0s 4ms/step - loss: 0.1891 - Accuracy: 0.9504\n",
      "Epoch 30/200\n",
      "20/20 [==============================] - 0s 5ms/step - loss: 0.1831 - Accuracy: 0.9568\n",
      "Epoch 31/200\n",
      "20/20 [==============================] - 0s 4ms/step - loss: 0.1772 - Accuracy: 0.9600\n",
      "Epoch 32/200\n",
      "20/20 [==============================] - 0s 3ms/step - loss: 0.1712 - Accuracy: 0.9648\n",
      "Epoch 33/200\n",
      "20/20 [==============================] - 0s 4ms/step - loss: 0.1652 - Accuracy: 0.9664\n",
      "Epoch 34/200\n",
      "20/20 [==============================] - 0s 4ms/step - loss: 0.1592 - Accuracy: 0.9664\n",
      "Epoch 35/200\n",
      "20/20 [==============================] - 0s 5ms/step - loss: 0.1534 - Accuracy: 0.9680\n",
      "Epoch 36/200\n",
      "20/20 [==============================] - 0s 5ms/step - loss: 0.1477 - Accuracy: 0.9696\n",
      "Epoch 37/200\n",
      "20/20 [==============================] - 0s 3ms/step - loss: 0.1422 - Accuracy: 0.9712\n",
      "Epoch 38/200\n",
      "20/20 [==============================] - 0s 4ms/step - loss: 0.1368 - Accuracy: 0.9728\n",
      "Epoch 39/200\n",
      "20/20 [==============================] - 0s 3ms/step - loss: 0.1317 - Accuracy: 0.9744\n",
      "Epoch 40/200\n",
      "20/20 [==============================] - 0s 4ms/step - loss: 0.1268 - Accuracy: 0.9728\n",
      "Epoch 41/200\n",
      "20/20 [==============================] - 0s 4ms/step - loss: 0.1221 - Accuracy: 0.9728\n",
      "Epoch 42/200\n",
      "20/20 [==============================] - 0s 4ms/step - loss: 0.1176 - Accuracy: 0.9728\n",
      "Epoch 43/200\n",
      "20/20 [==============================] - 0s 3ms/step - loss: 0.1133 - Accuracy: 0.9744\n",
      "Epoch 44/200\n",
      "20/20 [==============================] - 0s 3ms/step - loss: 0.1092 - Accuracy: 0.9744\n",
      "Epoch 45/200\n",
      "20/20 [==============================] - 0s 3ms/step - loss: 0.1054 - Accuracy: 0.9792\n",
      "Epoch 46/200\n",
      "20/20 [==============================] - 0s 4ms/step - loss: 0.1017 - Accuracy: 0.9792\n",
      "Epoch 47/200\n",
      "20/20 [==============================] - 0s 5ms/step - loss: 0.0982 - Accuracy: 0.9776\n",
      "Epoch 48/200\n",
      "20/20 [==============================] - 0s 4ms/step - loss: 0.0949 - Accuracy: 0.9808\n",
      "Epoch 49/200\n",
      "20/20 [==============================] - 0s 5ms/step - loss: 0.0918 - Accuracy: 0.9808\n",
      "Epoch 50/200\n",
      "20/20 [==============================] - 0s 4ms/step - loss: 0.0888 - Accuracy: 0.9808\n",
      "Epoch 51/200\n",
      "20/20 [==============================] - 0s 3ms/step - loss: 0.0860 - Accuracy: 0.9808\n",
      "Epoch 52/200\n",
      "20/20 [==============================] - 0s 5ms/step - loss: 0.0834 - Accuracy: 0.9808\n",
      "Epoch 53/200\n",
      "20/20 [==============================] - 0s 5ms/step - loss: 0.0808 - Accuracy: 0.9808\n",
      "Epoch 54/200\n",
      "20/20 [==============================] - 0s 5ms/step - loss: 0.0784 - Accuracy: 0.9808\n",
      "Epoch 55/200\n",
      "20/20 [==============================] - 0s 4ms/step - loss: 0.0761 - Accuracy: 0.9808\n",
      "Epoch 56/200\n",
      "20/20 [==============================] - 0s 4ms/step - loss: 0.0740 - Accuracy: 0.9808\n",
      "Epoch 57/200\n",
      "20/20 [==============================] - 0s 4ms/step - loss: 0.0719 - Accuracy: 0.9808\n",
      "Epoch 58/200\n",
      "20/20 [==============================] - 0s 4ms/step - loss: 0.0699 - Accuracy: 0.9808\n",
      "Epoch 59/200\n",
      "20/20 [==============================] - 0s 4ms/step - loss: 0.0681 - Accuracy: 0.9808\n",
      "Epoch 60/200\n",
      "20/20 [==============================] - 0s 4ms/step - loss: 0.0663 - Accuracy: 0.9808\n",
      "Epoch 61/200\n",
      "20/20 [==============================] - 0s 4ms/step - loss: 0.0647 - Accuracy: 0.9808\n",
      "Epoch 62/200\n",
      "20/20 [==============================] - 0s 3ms/step - loss: 0.0630 - Accuracy: 0.9808\n",
      "Epoch 63/200\n",
      "20/20 [==============================] - 0s 4ms/step - loss: 0.0615 - Accuracy: 0.9808\n",
      "Epoch 64/200\n",
      "20/20 [==============================] - 0s 4ms/step - loss: 0.0601 - Accuracy: 0.9808\n",
      "Epoch 65/200\n",
      "20/20 [==============================] - 0s 4ms/step - loss: 0.0587 - Accuracy: 0.9808\n",
      "Epoch 66/200\n",
      "20/20 [==============================] - 0s 5ms/step - loss: 0.0574 - Accuracy: 0.9808\n",
      "Epoch 67/200\n",
      "20/20 [==============================] - 0s 4ms/step - loss: 0.0561 - Accuracy: 0.9808\n",
      "Epoch 68/200\n",
      "20/20 [==============================] - 0s 4ms/step - loss: 0.0549 - Accuracy: 0.9808\n",
      "Epoch 69/200\n",
      "20/20 [==============================] - 0s 3ms/step - loss: 0.0537 - Accuracy: 0.9808\n",
      "Epoch 70/200\n",
      "20/20 [==============================] - 0s 4ms/step - loss: 0.0526 - Accuracy: 0.9808\n",
      "Epoch 71/200\n",
      "20/20 [==============================] - 0s 5ms/step - loss: 0.0515 - Accuracy: 0.9808\n",
      "Epoch 72/200\n",
      "20/20 [==============================] - 0s 4ms/step - loss: 0.0505 - Accuracy: 0.9808\n",
      "Epoch 73/200\n",
      "20/20 [==============================] - 0s 4ms/step - loss: 0.0495 - Accuracy: 0.9808\n",
      "Epoch 74/200\n",
      "20/20 [==============================] - 0s 4ms/step - loss: 0.0485 - Accuracy: 0.9808\n",
      "Epoch 75/200\n",
      "20/20 [==============================] - 0s 5ms/step - loss: 0.0476 - Accuracy: 0.9808\n",
      "Epoch 76/200\n",
      "20/20 [==============================] - 0s 4ms/step - loss: 0.0467 - Accuracy: 0.9808\n",
      "Epoch 77/200\n",
      "20/20 [==============================] - 0s 4ms/step - loss: 0.0459 - Accuracy: 0.9808\n",
      "Epoch 78/200\n",
      "20/20 [==============================] - 0s 4ms/step - loss: 0.0451 - Accuracy: 0.9808\n",
      "Epoch 79/200\n",
      "20/20 [==============================] - 0s 4ms/step - loss: 0.0443 - Accuracy: 0.9808\n",
      "Epoch 80/200\n",
      "20/20 [==============================] - 0s 4ms/step - loss: 0.0436 - Accuracy: 0.9808\n",
      "Epoch 81/200\n",
      "20/20 [==============================] - 0s 5ms/step - loss: 0.0429 - Accuracy: 0.9808\n",
      "Epoch 82/200\n",
      "20/20 [==============================] - 0s 5ms/step - loss: 0.0422 - Accuracy: 0.9808\n",
      "Epoch 83/200\n"
     ]
    },
    {
     "name": "stdout",
     "output_type": "stream",
     "text": [
      "20/20 [==============================] - 0s 5ms/step - loss: 0.0415 - Accuracy: 0.9808\n",
      "Epoch 84/200\n",
      "20/20 [==============================] - 0s 4ms/step - loss: 0.0409 - Accuracy: 0.9808\n",
      "Epoch 85/200\n",
      "20/20 [==============================] - 0s 4ms/step - loss: 0.0402 - Accuracy: 0.9808\n",
      "Epoch 86/200\n",
      "20/20 [==============================] - 0s 4ms/step - loss: 0.0397 - Accuracy: 0.9808\n",
      "Epoch 87/200\n",
      "20/20 [==============================] - 0s 5ms/step - loss: 0.0391 - Accuracy: 0.9808\n",
      "Epoch 88/200\n",
      "20/20 [==============================] - 0s 4ms/step - loss: 0.0385 - Accuracy: 0.9808\n",
      "Epoch 89/200\n",
      "20/20 [==============================] - 0s 4ms/step - loss: 0.0380 - Accuracy: 0.9808\n",
      "Epoch 90/200\n",
      "20/20 [==============================] - 0s 5ms/step - loss: 0.0375 - Accuracy: 0.9808\n",
      "Epoch 91/200\n",
      "20/20 [==============================] - 0s 5ms/step - loss: 0.0370 - Accuracy: 0.9808\n",
      "Epoch 92/200\n",
      "20/20 [==============================] - 0s 4ms/step - loss: 0.0365 - Accuracy: 0.9808\n",
      "Epoch 93/200\n",
      "20/20 [==============================] - 0s 3ms/step - loss: 0.0360 - Accuracy: 0.9808\n",
      "Epoch 94/200\n",
      "20/20 [==============================] - 0s 4ms/step - loss: 0.0355 - Accuracy: 0.9808\n",
      "Epoch 95/200\n",
      "20/20 [==============================] - 0s 5ms/step - loss: 0.0351 - Accuracy: 0.9808\n",
      "Epoch 96/200\n",
      "20/20 [==============================] - 0s 4ms/step - loss: 0.0347 - Accuracy: 0.9776\n",
      "Epoch 97/200\n",
      "20/20 [==============================] - 0s 4ms/step - loss: 0.0343 - Accuracy: 0.9808\n",
      "Epoch 98/200\n",
      "20/20 [==============================] - 0s 4ms/step - loss: 0.0339 - Accuracy: 0.9808\n",
      "Epoch 99/200\n",
      "20/20 [==============================] - 0s 4ms/step - loss: 0.0335 - Accuracy: 0.9808\n",
      "Epoch 100/200\n",
      "20/20 [==============================] - 0s 4ms/step - loss: 0.0331 - Accuracy: 0.9808\n",
      "Epoch 101/200\n",
      "20/20 [==============================] - 0s 4ms/step - loss: 0.0327 - Accuracy: 0.9808\n",
      "Epoch 102/200\n",
      "20/20 [==============================] - 0s 4ms/step - loss: 0.0324 - Accuracy: 0.9808\n",
      "Epoch 103/200\n",
      "20/20 [==============================] - 0s 4ms/step - loss: 0.0320 - Accuracy: 0.9808\n",
      "Epoch 104/200\n",
      "20/20 [==============================] - 0s 4ms/step - loss: 0.0317 - Accuracy: 0.9792\n",
      "Epoch 105/200\n",
      "20/20 [==============================] - 0s 5ms/step - loss: 0.0314 - Accuracy: 0.9808\n",
      "Epoch 106/200\n",
      "20/20 [==============================] - 0s 4ms/step - loss: 0.0311 - Accuracy: 0.9808\n",
      "Epoch 107/200\n",
      "20/20 [==============================] - 0s 4ms/step - loss: 0.0308 - Accuracy: 0.9808\n",
      "Epoch 108/200\n",
      "20/20 [==============================] - 0s 4ms/step - loss: 0.0305 - Accuracy: 0.9792\n",
      "Epoch 109/200\n",
      "20/20 [==============================] - 0s 4ms/step - loss: 0.0302 - Accuracy: 0.9808\n",
      "Epoch 110/200\n",
      "20/20 [==============================] - 0s 4ms/step - loss: 0.0299 - Accuracy: 0.9808\n",
      "Epoch 111/200\n",
      "20/20 [==============================] - 0s 5ms/step - loss: 0.0296 - Accuracy: 0.9808\n",
      "Epoch 112/200\n",
      "20/20 [==============================] - 0s 4ms/step - loss: 0.0293 - Accuracy: 0.9808\n",
      "Epoch 113/200\n",
      "20/20 [==============================] - 0s 4ms/step - loss: 0.0291 - Accuracy: 0.9792\n",
      "Epoch 114/200\n",
      "20/20 [==============================] - 0s 4ms/step - loss: 0.0288 - Accuracy: 0.9776\n",
      "Epoch 115/200\n",
      "20/20 [==============================] - 0s 5ms/step - loss: 0.0286 - Accuracy: 0.9808\n",
      "Epoch 116/200\n",
      "20/20 [==============================] - 0s 4ms/step - loss: 0.0284 - Accuracy: 0.9808\n",
      "Epoch 117/200\n",
      "20/20 [==============================] - 0s 4ms/step - loss: 0.0281 - Accuracy: 0.9776\n",
      "Epoch 118/200\n",
      "20/20 [==============================] - 0s 4ms/step - loss: 0.0279 - Accuracy: 0.9792\n",
      "Epoch 119/200\n",
      "20/20 [==============================] - 0s 4ms/step - loss: 0.0277 - Accuracy: 0.9776\n",
      "Epoch 120/200\n",
      "20/20 [==============================] - 0s 4ms/step - loss: 0.0274 - Accuracy: 0.9776\n",
      "Epoch 121/200\n",
      "20/20 [==============================] - 0s 4ms/step - loss: 0.0272 - Accuracy: 0.9776\n",
      "Epoch 122/200\n",
      "20/20 [==============================] - 0s 5ms/step - loss: 0.0270 - Accuracy: 0.9776\n",
      "Epoch 123/200\n",
      "20/20 [==============================] - 0s 5ms/step - loss: 0.0268 - Accuracy: 0.9776\n",
      "Epoch 124/200\n",
      "20/20 [==============================] - 0s 4ms/step - loss: 0.0266 - Accuracy: 0.9776\n",
      "Epoch 125/200\n",
      "20/20 [==============================] - 0s 3ms/step - loss: 0.0264 - Accuracy: 0.9776\n",
      "Epoch 126/200\n",
      "20/20 [==============================] - 0s 4ms/step - loss: 0.0263 - Accuracy: 0.9776\n",
      "Epoch 127/200\n",
      "20/20 [==============================] - 0s 4ms/step - loss: 0.0261 - Accuracy: 0.9776\n",
      "Epoch 128/200\n",
      "20/20 [==============================] - 0s 4ms/step - loss: 0.0259 - Accuracy: 0.9776\n",
      "Epoch 129/200\n",
      "20/20 [==============================] - 0s 4ms/step - loss: 0.0258 - Accuracy: 0.9776\n",
      "Epoch 130/200\n",
      "20/20 [==============================] - 0s 4ms/step - loss: 0.0256 - Accuracy: 0.9776\n",
      "Epoch 131/200\n",
      "20/20 [==============================] - 0s 5ms/step - loss: 0.0254 - Accuracy: 0.9776\n",
      "Epoch 132/200\n",
      "20/20 [==============================] - 0s 5ms/step - loss: 0.0252 - Accuracy: 0.9776\n",
      "Epoch 133/200\n",
      "20/20 [==============================] - 0s 4ms/step - loss: 0.0251 - Accuracy: 0.9776\n",
      "Epoch 134/200\n",
      "20/20 [==============================] - 0s 4ms/step - loss: 0.0249 - Accuracy: 0.9776\n",
      "Epoch 135/200\n",
      "20/20 [==============================] - 0s 4ms/step - loss: 0.0248 - Accuracy: 0.9776\n",
      "Epoch 136/200\n",
      "20/20 [==============================] - 0s 3ms/step - loss: 0.0246 - Accuracy: 0.9776\n",
      "Epoch 137/200\n",
      "20/20 [==============================] - 0s 4ms/step - loss: 0.0245 - Accuracy: 0.9776\n",
      "Epoch 138/200\n",
      "20/20 [==============================] - 0s 4ms/step - loss: 0.0244 - Accuracy: 0.9776\n",
      "Epoch 139/200\n",
      "20/20 [==============================] - 0s 4ms/step - loss: 0.0242 - Accuracy: 0.9776\n",
      "Epoch 140/200\n",
      "20/20 [==============================] - 0s 4ms/step - loss: 0.0241 - Accuracy: 0.9776\n",
      "Epoch 141/200\n",
      "20/20 [==============================] - 0s 4ms/step - loss: 0.0240 - Accuracy: 0.9776\n",
      "Epoch 142/200\n",
      "20/20 [==============================] - 0s 4ms/step - loss: 0.0238 - Accuracy: 0.9776\n",
      "Epoch 143/200\n",
      "20/20 [==============================] - 0s 4ms/step - loss: 0.0237 - Accuracy: 0.9776\n",
      "Epoch 144/200\n",
      "20/20 [==============================] - 0s 4ms/step - loss: 0.0236 - Accuracy: 0.9776\n",
      "Epoch 145/200\n",
      "20/20 [==============================] - 0s 3ms/step - loss: 0.0235 - Accuracy: 0.9776\n",
      "Epoch 146/200\n",
      "20/20 [==============================] - 0s 4ms/step - loss: 0.0234 - Accuracy: 0.9760\n",
      "Epoch 147/200\n",
      "20/20 [==============================] - 0s 4ms/step - loss: 0.0232 - Accuracy: 0.9776\n",
      "Epoch 148/200\n",
      "20/20 [==============================] - 0s 4ms/step - loss: 0.0232 - Accuracy: 0.9776\n",
      "Epoch 149/200\n",
      "20/20 [==============================] - 0s 5ms/step - loss: 0.0230 - Accuracy: 0.9776\n",
      "Epoch 150/200\n",
      "20/20 [==============================] - 0s 4ms/step - loss: 0.0229 - Accuracy: 0.9776\n",
      "Epoch 151/200\n",
      "20/20 [==============================] - 0s 4ms/step - loss: 0.0228 - Accuracy: 0.9776\n",
      "Epoch 152/200\n",
      "20/20 [==============================] - 0s 4ms/step - loss: 0.0227 - Accuracy: 0.9776\n",
      "Epoch 153/200\n",
      "20/20 [==============================] - 0s 4ms/step - loss: 0.0226 - Accuracy: 0.9776\n",
      "Epoch 154/200\n",
      "20/20 [==============================] - 0s 4ms/step - loss: 0.0225 - Accuracy: 0.9776\n",
      "Epoch 155/200\n",
      "20/20 [==============================] - 0s 4ms/step - loss: 0.0224 - Accuracy: 0.9776\n",
      "Epoch 156/200\n",
      "20/20 [==============================] - 0s 5ms/step - loss: 0.0223 - Accuracy: 0.9776\n",
      "Epoch 157/200\n",
      "20/20 [==============================] - 0s 4ms/step - loss: 0.0222 - Accuracy: 0.9776\n",
      "Epoch 158/200\n",
      "20/20 [==============================] - 0s 4ms/step - loss: 0.0221 - Accuracy: 0.9776\n",
      "Epoch 159/200\n",
      "20/20 [==============================] - 0s 5ms/step - loss: 0.0220 - Accuracy: 0.9776\n",
      "Epoch 160/200\n",
      "20/20 [==============================] - 0s 5ms/step - loss: 0.0219 - Accuracy: 0.9776\n",
      "Epoch 161/200\n",
      "20/20 [==============================] - 0s 5ms/step - loss: 0.0219 - Accuracy: 0.9776\n",
      "Epoch 162/200\n",
      "20/20 [==============================] - 0s 5ms/step - loss: 0.0218 - Accuracy: 0.9776\n",
      "Epoch 163/200\n",
      "20/20 [==============================] - 0s 4ms/step - loss: 0.0217 - Accuracy: 0.9776\n",
      "Epoch 164/200\n"
     ]
    },
    {
     "name": "stdout",
     "output_type": "stream",
     "text": [
      "20/20 [==============================] - 0s 5ms/step - loss: 0.0216 - Accuracy: 0.9776\n",
      "Epoch 165/200\n",
      "20/20 [==============================] - 0s 4ms/step - loss: 0.0216 - Accuracy: 0.9760\n",
      "Epoch 166/200\n",
      "20/20 [==============================] - 0s 4ms/step - loss: 0.0215 - Accuracy: 0.9776\n",
      "Epoch 167/200\n",
      "20/20 [==============================] - 0s 4ms/step - loss: 0.0214 - Accuracy: 0.9760\n",
      "Epoch 168/200\n",
      "20/20 [==============================] - 0s 5ms/step - loss: 0.0213 - Accuracy: 0.9776\n",
      "Epoch 169/200\n",
      "20/20 [==============================] - 0s 5ms/step - loss: 0.0212 - Accuracy: 0.9776\n",
      "Epoch 170/200\n",
      "20/20 [==============================] - 0s 5ms/step - loss: 0.0212 - Accuracy: 0.9760\n",
      "Epoch 171/200\n",
      "20/20 [==============================] - 0s 3ms/step - loss: 0.0211 - Accuracy: 0.9760\n",
      "Epoch 172/200\n",
      "20/20 [==============================] - 0s 3ms/step - loss: 0.0210 - Accuracy: 0.9776\n",
      "Epoch 173/200\n",
      "20/20 [==============================] - 0s 4ms/step - loss: 0.0210 - Accuracy: 0.9776\n",
      "Epoch 174/200\n",
      "20/20 [==============================] - 0s 4ms/step - loss: 0.0209 - Accuracy: 0.9760\n",
      "Epoch 175/200\n",
      "20/20 [==============================] - 0s 4ms/step - loss: 0.0208 - Accuracy: 0.9760\n",
      "Epoch 176/200\n",
      "20/20 [==============================] - 0s 4ms/step - loss: 0.0208 - Accuracy: 0.9776\n",
      "Epoch 177/200\n",
      "20/20 [==============================] - 0s 4ms/step - loss: 0.0207 - Accuracy: 0.9776\n",
      "Epoch 178/200\n",
      "20/20 [==============================] - 0s 4ms/step - loss: 0.0206 - Accuracy: 0.9776\n",
      "Epoch 179/200\n",
      "20/20 [==============================] - 0s 5ms/step - loss: 0.0206 - Accuracy: 0.9776\n",
      "Epoch 180/200\n",
      "20/20 [==============================] - 0s 5ms/step - loss: 0.0206 - Accuracy: 0.9776\n",
      "Epoch 181/200\n",
      "20/20 [==============================] - 0s 5ms/step - loss: 0.0205 - Accuracy: 0.9776\n",
      "Epoch 182/200\n",
      "20/20 [==============================] - 0s 5ms/step - loss: 0.0204 - Accuracy: 0.9776\n",
      "Epoch 183/200\n",
      "20/20 [==============================] - 0s 4ms/step - loss: 0.0204 - Accuracy: 0.9744\n",
      "Epoch 184/200\n",
      "20/20 [==============================] - 0s 4ms/step - loss: 0.0203 - Accuracy: 0.9760\n",
      "Epoch 185/200\n",
      "20/20 [==============================] - 0s 4ms/step - loss: 0.0202 - Accuracy: 0.9760\n",
      "Epoch 186/200\n",
      "20/20 [==============================] - 0s 4ms/step - loss: 0.0202 - Accuracy: 0.9760\n",
      "Epoch 187/200\n",
      "20/20 [==============================] - 0s 4ms/step - loss: 0.0201 - Accuracy: 0.9760\n",
      "Epoch 188/200\n",
      "20/20 [==============================] - 0s 4ms/step - loss: 0.0201 - Accuracy: 0.9760\n",
      "Epoch 189/200\n",
      "20/20 [==============================] - 0s 4ms/step - loss: 0.0200 - Accuracy: 0.9776\n",
      "Epoch 190/200\n",
      "20/20 [==============================] - 0s 5ms/step - loss: 0.0200 - Accuracy: 0.9776\n",
      "Epoch 191/200\n",
      "20/20 [==============================] - 0s 5ms/step - loss: 0.0199 - Accuracy: 0.9776\n",
      "Epoch 192/200\n",
      "20/20 [==============================] - 0s 3ms/step - loss: 0.0199 - Accuracy: 0.9776\n",
      "Epoch 193/200\n",
      "20/20 [==============================] - 0s 4ms/step - loss: 0.0199 - Accuracy: 0.9760\n",
      "Epoch 194/200\n",
      "20/20 [==============================] - 0s 4ms/step - loss: 0.0198 - Accuracy: 0.9760\n",
      "Epoch 195/200\n",
      "20/20 [==============================] - 0s 4ms/step - loss: 0.0198 - Accuracy: 0.9760\n",
      "Epoch 196/200\n",
      "20/20 [==============================] - 0s 4ms/step - loss: 0.0198 - Accuracy: 0.9776\n",
      "Epoch 197/200\n",
      "20/20 [==============================] - 0s 4ms/step - loss: 0.0197 - Accuracy: 0.9760\n",
      "Epoch 198/200\n",
      "20/20 [==============================] - 0s 4ms/step - loss: 0.0196 - Accuracy: 0.9760\n",
      "Epoch 199/200\n",
      "20/20 [==============================] - 0s 4ms/step - loss: 0.0196 - Accuracy: 0.9760\n",
      "Epoch 200/200\n",
      "20/20 [==============================] - 0s 5ms/step - loss: 0.0196 - Accuracy: 0.9760\n"
     ]
    },
    {
     "data": {
      "text/plain": [
       "<keras.callbacks.History at 0x1436466be80>"
      ]
     },
     "execution_count": 68,
     "metadata": {},
     "output_type": "execute_result"
    }
   ],
   "source": [
    "model.fit(x_train,y_train,epochs=200,callbacks=[early_stopping])"
   ]
  },
  {
   "cell_type": "code",
   "execution_count": 69,
   "id": "9f97122e",
   "metadata": {},
   "outputs": [
    {
     "name": "stdout",
     "output_type": "stream",
     "text": [
      "20/20 [==============================] - 1s 3ms/step - loss: 0.0195 - Accuracy: 0.9776\n"
     ]
    },
    {
     "data": {
      "text/plain": [
       "[0.01951049268245697, 0.9775999784469604]"
      ]
     },
     "execution_count": 69,
     "metadata": {},
     "output_type": "execute_result"
    }
   ],
   "source": [
    "model.evaluate(x_train,y_train)"
   ]
  },
  {
   "cell_type": "code",
   "execution_count": 70,
   "id": "594f2028",
   "metadata": {},
   "outputs": [
    {
     "name": "stdout",
     "output_type": "stream",
     "text": [
      "5/5 [==============================] - 0s 4ms/step - loss: 0.0328 - Accuracy: 0.9427\n"
     ]
    }
   ],
   "source": [
    "evaluate=model.evaluate(x_test,y_test)"
   ]
  },
  {
   "cell_type": "code",
   "execution_count": 71,
   "id": "8d060df3",
   "metadata": {},
   "outputs": [
    {
     "name": "stdout",
     "output_type": "stream",
     "text": [
      "5/5 [==============================] - 0s 4ms/step\n"
     ]
    },
    {
     "data": {
      "text/plain": [
       "array([[0.89093286],\n",
       "       [0.04826069],\n",
       "       [0.9612229 ],\n",
       "       [0.03578858],\n",
       "       [0.9630462 ],\n",
       "       [0.95940024],\n",
       "       [0.03587446],\n",
       "       [0.08572093],\n",
       "       [0.0375124 ],\n",
       "       [0.9622732 ],\n",
       "       [0.5260098 ],\n",
       "       [0.96305794],\n",
       "       [0.03590641],\n",
       "       [0.5933479 ],\n",
       "       [0.08463664],\n",
       "       [0.9630517 ],\n",
       "       [0.03579554],\n",
       "       [0.96269107],\n",
       "       [0.9630003 ],\n",
       "       [0.03584278],\n",
       "       [0.96287876],\n",
       "       [0.9546767 ],\n",
       "       [0.03636653],\n",
       "       [0.03578683],\n",
       "       [0.15587889],\n",
       "       [0.9630294 ],\n",
       "       [0.963006  ],\n",
       "       [0.0358335 ],\n",
       "       [0.04216573],\n",
       "       [0.03799468],\n",
       "       [0.93765795],\n",
       "       [0.8727369 ],\n",
       "       [0.03578741],\n",
       "       [0.03581066],\n",
       "       [0.03586062],\n",
       "       [0.95970434],\n",
       "       [0.95993173],\n",
       "       [0.05528966],\n",
       "       [0.95874995],\n",
       "       [0.9628232 ],\n",
       "       [0.8627625 ],\n",
       "       [0.14126433],\n",
       "       [0.9630079 ],\n",
       "       [0.9452446 ],\n",
       "       [0.03625576],\n",
       "       [0.89477706],\n",
       "       [0.9629996 ],\n",
       "       [0.96229637],\n",
       "       [0.96288985],\n",
       "       [0.03581556],\n",
       "       [0.96304584],\n",
       "       [0.9630551 ],\n",
       "       [0.9306423 ],\n",
       "       [0.03980621],\n",
       "       [0.96286637],\n",
       "       [0.9629217 ],\n",
       "       [0.03721186],\n",
       "       [0.04870339],\n",
       "       [0.7227108 ],\n",
       "       [0.03588953],\n",
       "       [0.95948106],\n",
       "       [0.37862903],\n",
       "       [0.03581031],\n",
       "       [0.66493016],\n",
       "       [0.9208892 ],\n",
       "       [0.04609367],\n",
       "       [0.90702367],\n",
       "       [0.04125155],\n",
       "       [0.962622  ],\n",
       "       [0.03638516],\n",
       "       [0.06625946],\n",
       "       [0.963058  ],\n",
       "       [0.9522566 ],\n",
       "       [0.03581909],\n",
       "       [0.03590516],\n",
       "       [0.89362824],\n",
       "       [0.9630366 ],\n",
       "       [0.09698321],\n",
       "       [0.963037  ],\n",
       "       [0.96260726],\n",
       "       [0.96057975],\n",
       "       [0.03613134],\n",
       "       [0.9627978 ],\n",
       "       [0.897703  ],\n",
       "       [0.96281266],\n",
       "       [0.21357569],\n",
       "       [0.04098782],\n",
       "       [0.03839462],\n",
       "       [0.9602117 ],\n",
       "       [0.0357888 ],\n",
       "       [0.9102295 ],\n",
       "       [0.9623285 ],\n",
       "       [0.03629258],\n",
       "       [0.03646436],\n",
       "       [0.95659214],\n",
       "       [0.95785457],\n",
       "       [0.96293384],\n",
       "       [0.06865287],\n",
       "       [0.03592113],\n",
       "       [0.03596929],\n",
       "       [0.03795746],\n",
       "       [0.9582911 ],\n",
       "       [0.03668992],\n",
       "       [0.07699118],\n",
       "       [0.9630597 ],\n",
       "       [0.940819  ],\n",
       "       [0.0362125 ],\n",
       "       [0.03637983],\n",
       "       [0.03586823],\n",
       "       [0.70005524],\n",
       "       [0.03605013],\n",
       "       [0.6761323 ],\n",
       "       [0.96299237],\n",
       "       [0.20365854],\n",
       "       [0.9625686 ],\n",
       "       [0.9554464 ],\n",
       "       [0.03639835],\n",
       "       [0.03831605],\n",
       "       [0.27636114],\n",
       "       [0.04451087],\n",
       "       [0.96296906],\n",
       "       [0.94929254],\n",
       "       [0.93111837],\n",
       "       [0.95409614],\n",
       "       [0.03581703],\n",
       "       [0.03960604],\n",
       "       [0.9322453 ],\n",
       "       [0.03599782],\n",
       "       [0.03741835],\n",
       "       [0.942891  ],\n",
       "       [0.05310058],\n",
       "       [0.03700507],\n",
       "       [0.03650997],\n",
       "       [0.96301025],\n",
       "       [0.03635725],\n",
       "       [0.03658085],\n",
       "       [0.8667696 ],\n",
       "       [0.0358548 ],\n",
       "       [0.9608364 ],\n",
       "       [0.03731877],\n",
       "       [0.03579025],\n",
       "       [0.0358119 ],\n",
       "       [0.9630239 ],\n",
       "       [0.05614565],\n",
       "       [0.96163094],\n",
       "       [0.03833511],\n",
       "       [0.962861  ],\n",
       "       [0.34107143],\n",
       "       [0.9607483 ],\n",
       "       [0.9630002 ],\n",
       "       [0.96305734],\n",
       "       [0.06845696],\n",
       "       [0.96299833],\n",
       "       [0.03908906],\n",
       "       [0.03579287],\n",
       "       [0.03753697],\n",
       "       [0.9592546 ]], dtype=float32)"
      ]
     },
     "execution_count": 71,
     "metadata": {},
     "output_type": "execute_result"
    }
   ],
   "source": [
    "y_predicted = model.predict(x_test)\n",
    "y_predicted"
   ]
  },
  {
   "cell_type": "code",
   "execution_count": 72,
   "id": "bff3bf84",
   "metadata": {},
   "outputs": [],
   "source": [
    "y_predicted_labels = [np.argmax(i) for i in y_predicted]"
   ]
  },
  {
   "cell_type": "code",
   "execution_count": 73,
   "id": "54de5fac",
   "metadata": {},
   "outputs": [
    {
     "data": {
      "text/plain": [
       "[0,\n",
       " 0,\n",
       " 0,\n",
       " 0,\n",
       " 0,\n",
       " 0,\n",
       " 0,\n",
       " 0,\n",
       " 0,\n",
       " 0,\n",
       " 0,\n",
       " 0,\n",
       " 0,\n",
       " 0,\n",
       " 0,\n",
       " 0,\n",
       " 0,\n",
       " 0,\n",
       " 0,\n",
       " 0,\n",
       " 0,\n",
       " 0,\n",
       " 0,\n",
       " 0,\n",
       " 0,\n",
       " 0,\n",
       " 0,\n",
       " 0,\n",
       " 0,\n",
       " 0,\n",
       " 0,\n",
       " 0,\n",
       " 0,\n",
       " 0,\n",
       " 0,\n",
       " 0,\n",
       " 0,\n",
       " 0,\n",
       " 0,\n",
       " 0,\n",
       " 0,\n",
       " 0,\n",
       " 0,\n",
       " 0,\n",
       " 0,\n",
       " 0,\n",
       " 0,\n",
       " 0,\n",
       " 0,\n",
       " 0,\n",
       " 0,\n",
       " 0,\n",
       " 0,\n",
       " 0,\n",
       " 0,\n",
       " 0,\n",
       " 0,\n",
       " 0,\n",
       " 0,\n",
       " 0,\n",
       " 0,\n",
       " 0,\n",
       " 0,\n",
       " 0,\n",
       " 0,\n",
       " 0,\n",
       " 0,\n",
       " 0,\n",
       " 0,\n",
       " 0,\n",
       " 0,\n",
       " 0,\n",
       " 0,\n",
       " 0,\n",
       " 0,\n",
       " 0,\n",
       " 0,\n",
       " 0,\n",
       " 0,\n",
       " 0,\n",
       " 0,\n",
       " 0,\n",
       " 0,\n",
       " 0,\n",
       " 0,\n",
       " 0,\n",
       " 0,\n",
       " 0,\n",
       " 0,\n",
       " 0,\n",
       " 0,\n",
       " 0,\n",
       " 0,\n",
       " 0,\n",
       " 0,\n",
       " 0,\n",
       " 0,\n",
       " 0,\n",
       " 0,\n",
       " 0,\n",
       " 0,\n",
       " 0,\n",
       " 0,\n",
       " 0,\n",
       " 0,\n",
       " 0,\n",
       " 0,\n",
       " 0,\n",
       " 0,\n",
       " 0,\n",
       " 0,\n",
       " 0,\n",
       " 0,\n",
       " 0,\n",
       " 0,\n",
       " 0,\n",
       " 0,\n",
       " 0,\n",
       " 0,\n",
       " 0,\n",
       " 0,\n",
       " 0,\n",
       " 0,\n",
       " 0,\n",
       " 0,\n",
       " 0,\n",
       " 0,\n",
       " 0,\n",
       " 0,\n",
       " 0,\n",
       " 0,\n",
       " 0,\n",
       " 0,\n",
       " 0,\n",
       " 0,\n",
       " 0,\n",
       " 0,\n",
       " 0,\n",
       " 0,\n",
       " 0,\n",
       " 0,\n",
       " 0,\n",
       " 0,\n",
       " 0,\n",
       " 0,\n",
       " 0,\n",
       " 0,\n",
       " 0,\n",
       " 0,\n",
       " 0,\n",
       " 0,\n",
       " 0,\n",
       " 0,\n",
       " 0,\n",
       " 0,\n",
       " 0,\n",
       " 0]"
      ]
     },
     "execution_count": 73,
     "metadata": {},
     "output_type": "execute_result"
    }
   ],
   "source": [
    "y_predicted_labels"
   ]
  },
  {
   "cell_type": "code",
   "execution_count": 74,
   "id": "b2a5629d",
   "metadata": {},
   "outputs": [
    {
     "data": {
      "text/plain": [
       "Text(91.68, 0.5, 'Predicted')"
      ]
     },
     "execution_count": 74,
     "metadata": {},
     "output_type": "execute_result"
    },
    {
     "data": {
      "image/png": "[encoded data removed]",
      "text/plain": [
       "<Figure size 432x288 with 1 Axes>"
      ]
     },
     "metadata": {
      "needs_background": "light"
     },
     "output_type": "display_data"
    }
   ],
   "source": [
    "cl = confusion_matrix(y_test,y_predicted_labels) \n",
    "sns.heatmap(cl, square=True, annot=True, cbar=False,  cmap=\"YlGnBu\" ,fmt='g')\n",
    "plt.xlabel('Truth')\n",
    "plt.ylabel('Predicted')"
   ]
  },
  {
   "cell_type": "code",
   "execution_count": 75,
   "id": "13cb44f2",
   "metadata": {
    "scrolled": true
   },
   "outputs": [
    {
     "name": "stdout",
     "output_type": "stream",
     "text": [
      "              precision    recall  f1-score   support\n",
      "\n",
      "           0       0.52      1.00      0.69        82\n",
      "           1       0.00      0.00      0.00        75\n",
      "\n",
      "    accuracy                           0.52       157\n",
      "   macro avg       0.26      0.50      0.34       157\n",
      "weighted avg       0.27      0.52      0.36       157\n",
      "\n"
     ]
    },
    {
     "name": "stderr",
     "output_type": "stream",
     "text": [
      "C:\\Users\\riyag\\Anaconda3\\lib\\site-packages\\sklearn\\metrics\\_classification.py:1318: UndefinedMetricWarning: Precision and F-score are ill-defined and being set to 0.0 in labels with no predicted samples. Use `zero_division` parameter to control this behavior.\n",
      "  _warn_prf(average, modifier, msg_start, len(result))\n",
      "C:\\Users\\riyag\\Anaconda3\\lib\\site-packages\\sklearn\\metrics\\_classification.py:1318: UndefinedMetricWarning: Precision and F-score are ill-defined and being set to 0.0 in labels with no predicted samples. Use `zero_division` parameter to control this behavior.\n",
      "  _warn_prf(average, modifier, msg_start, len(result))\n",
      "C:\\Users\\riyag\\Anaconda3\\lib\\site-packages\\sklearn\\metrics\\_classification.py:1318: UndefinedMetricWarning: Precision and F-score are ill-defined and being set to 0.0 in labels with no predicted samples. Use `zero_division` parameter to control this behavior.\n",
      "  _warn_prf(average, modifier, msg_start, len(result))\n"
     ]
    }
   ],
   "source": [
    "print(classification_report(y_test,y_predicted_labels))"
   ]
  },
  {
   "cell_type": "code",
   "execution_count": 76,
   "id": "6287b455",
   "metadata": {
    "scrolled": true
   },
   "outputs": [
    {
     "data": {
      "text/plain": [
       "<matplotlib.legend.Legend at 0x14369892460>"
      ]
     },
     "execution_count": 76,
     "metadata": {},
     "output_type": "execute_result"
    },
    {
     "data": {
      "image/png": "[encoded data removed]",
      "text/plain": [
       "<Figure size 1152x576 with 1 Axes>"
      ]
     },
     "metadata": {
      "needs_background": "light"
     },
     "output_type": "display_data"
    }
   ],
   "source": [
    "fig, ax = plt.subplots(figsize=(16,8))\n",
    "ax.set_facecolor('#000041')\n",
    "ax.plot(y_test, color='red', label='Original price')\n",
    "plt.plot(y_predicted, color='cyan', label='Predicted price')\n",
    "plt.legend()"
   ]
  },
  {
   "cell_type": "code",
   "execution_count": null,
   "id": "b8527d6b",
   "metadata": {},
   "outputs": [],
   "source": []
  }
 ],
 "metadata": {
  "kernelspec": {
   "display_name": "Python 3 (ipykernel)",
   "language": "python",
   "name": "python3"
  },
  "language_info": {
   "codemirror_mode": {
    "name": "ipython",
    "version": 3
   },
   "file_extension": ".py",
   "mimetype": "text/x-python",
   "name": "python",
   "nbconvert_exporter": "python",
   "pygments_lexer": "ipython3",
   "version": "3.9.12"
  }
 },
 "nbformat": 4,
 "nbformat_minor": 5
}
